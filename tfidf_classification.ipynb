{
 "cells": [
  {
   "cell_type": "markdown",
   "id": "60cf8ef7",
   "metadata": {},
   "source": [
    "Лосев Владислав, ФН12-31м. tweeter sentiment analysis"
   ]
  },
  {
   "cell_type": "code",
   "execution_count": 1,
   "id": "38887fd2",
   "metadata": {},
   "outputs": [],
   "source": [
    "import pandas as pd\n",
    "import numpy as np\n",
    "import matplotlib.pyplot as plt"
   ]
  },
  {
   "cell_type": "code",
   "execution_count": 2,
   "id": "d596d9b2",
   "metadata": {},
   "outputs": [],
   "source": [
    "#import torch"
   ]
  },
  {
   "cell_type": "code",
   "execution_count": 3,
   "id": "f4790c36",
   "metadata": {},
   "outputs": [],
   "source": [
    "from sklearn.model_selection import train_test_split\n",
    "from sklearn.feature_extraction.text import TfidfVectorizer\n",
    "from sklearn.linear_model import LogisticRegression\n",
    "from sklearn.metrics import classification_report, accuracy_score"
   ]
  },
  {
   "cell_type": "code",
   "execution_count": 4,
   "id": "315271d6",
   "metadata": {},
   "outputs": [],
   "source": [
    "\n",
    "   # C:\\Users\\Acer\\Documents\\ФН12_2год\\nlp\n",
    "data=pd.read_csv(r'C:\\Users\\user\\Documents\\FN12_2sem\\twitter_training.csv')"
   ]
  },
  {
   "cell_type": "code",
   "execution_count": 5,
   "id": "da8b19ab",
   "metadata": {},
   "outputs": [
    {
     "data": {
      "text/html": [
       "<div>\n",
       "<style scoped>\n",
       "    .dataframe tbody tr th:only-of-type {\n",
       "        vertical-align: middle;\n",
       "    }\n",
       "\n",
       "    .dataframe tbody tr th {\n",
       "        vertical-align: top;\n",
       "    }\n",
       "\n",
       "    .dataframe thead th {\n",
       "        text-align: right;\n",
       "    }\n",
       "</style>\n",
       "<table border=\"1\" class=\"dataframe\">\n",
       "  <thead>\n",
       "    <tr style=\"text-align: right;\">\n",
       "      <th></th>\n",
       "      <th>2401</th>\n",
       "      <th>Borderlands</th>\n",
       "      <th>Positive</th>\n",
       "      <th>im getting on borderlands and i will murder you all ,</th>\n",
       "    </tr>\n",
       "  </thead>\n",
       "  <tbody>\n",
       "    <tr>\n",
       "      <th>0</th>\n",
       "      <td>2401</td>\n",
       "      <td>Borderlands</td>\n",
       "      <td>Positive</td>\n",
       "      <td>I am coming to the borders and I will kill you...</td>\n",
       "    </tr>\n",
       "    <tr>\n",
       "      <th>1</th>\n",
       "      <td>2401</td>\n",
       "      <td>Borderlands</td>\n",
       "      <td>Positive</td>\n",
       "      <td>im getting on borderlands and i will kill you ...</td>\n",
       "    </tr>\n",
       "    <tr>\n",
       "      <th>2</th>\n",
       "      <td>2401</td>\n",
       "      <td>Borderlands</td>\n",
       "      <td>Positive</td>\n",
       "      <td>im coming on borderlands and i will murder you...</td>\n",
       "    </tr>\n",
       "    <tr>\n",
       "      <th>3</th>\n",
       "      <td>2401</td>\n",
       "      <td>Borderlands</td>\n",
       "      <td>Positive</td>\n",
       "      <td>im getting on borderlands 2 and i will murder ...</td>\n",
       "    </tr>\n",
       "    <tr>\n",
       "      <th>4</th>\n",
       "      <td>2401</td>\n",
       "      <td>Borderlands</td>\n",
       "      <td>Positive</td>\n",
       "      <td>im getting into borderlands and i can murder y...</td>\n",
       "    </tr>\n",
       "  </tbody>\n",
       "</table>\n",
       "</div>"
      ],
      "text/plain": [
       "   2401  Borderlands  Positive  \\\n",
       "0  2401  Borderlands  Positive   \n",
       "1  2401  Borderlands  Positive   \n",
       "2  2401  Borderlands  Positive   \n",
       "3  2401  Borderlands  Positive   \n",
       "4  2401  Borderlands  Positive   \n",
       "\n",
       "  im getting on borderlands and i will murder you all ,  \n",
       "0  I am coming to the borders and I will kill you...     \n",
       "1  im getting on borderlands and i will kill you ...     \n",
       "2  im coming on borderlands and i will murder you...     \n",
       "3  im getting on borderlands 2 and i will murder ...     \n",
       "4  im getting into borderlands and i can murder y...     "
      ]
     },
     "execution_count": 5,
     "metadata": {},
     "output_type": "execute_result"
    }
   ],
   "source": [
    "data.head()"
   ]
  },
  {
   "cell_type": "code",
   "execution_count": 6,
   "id": "3ebf8b82",
   "metadata": {},
   "outputs": [],
   "source": [
    "def data_info(data):\n",
    "    print('Первые 5 строк в датафрейме:')\n",
    "    display(data.head())\n",
    "    print('------------------------------------------------------------------------------------')\n",
    "    print('Основная информация df.info():')\n",
    "    data.info()\n",
    "    print('------------------------------------------------------------------------------------')\n",
    "    display(pd.DataFrame({'Количество пропущенных значений': data.isna().sum()}))\n",
    "    print('------------------------------------------------------------------------------------')\n",
    "    print(f'Количество дубликатов: {data.duplicated().sum()}')\n",
    "    print('------------------------------------------------------------------------------------')\n",
    "    "
   ]
  },
  {
   "cell_type": "code",
   "execution_count": null,
   "id": "9486c27b",
   "metadata": {},
   "outputs": [],
   "source": []
  },
  {
   "cell_type": "code",
   "execution_count": 7,
   "id": "b546a408",
   "metadata": {},
   "outputs": [
    {
     "name": "stdout",
     "output_type": "stream",
     "text": [
      "Первые 5 строк в датафрейме:\n"
     ]
    },
    {
     "data": {
      "text/html": [
       "<div>\n",
       "<style scoped>\n",
       "    .dataframe tbody tr th:only-of-type {\n",
       "        vertical-align: middle;\n",
       "    }\n",
       "\n",
       "    .dataframe tbody tr th {\n",
       "        vertical-align: top;\n",
       "    }\n",
       "\n",
       "    .dataframe thead th {\n",
       "        text-align: right;\n",
       "    }\n",
       "</style>\n",
       "<table border=\"1\" class=\"dataframe\">\n",
       "  <thead>\n",
       "    <tr style=\"text-align: right;\">\n",
       "      <th></th>\n",
       "      <th>2401</th>\n",
       "      <th>Borderlands</th>\n",
       "      <th>Positive</th>\n",
       "      <th>im getting on borderlands and i will murder you all ,</th>\n",
       "    </tr>\n",
       "  </thead>\n",
       "  <tbody>\n",
       "    <tr>\n",
       "      <th>0</th>\n",
       "      <td>2401</td>\n",
       "      <td>Borderlands</td>\n",
       "      <td>Positive</td>\n",
       "      <td>I am coming to the borders and I will kill you...</td>\n",
       "    </tr>\n",
       "    <tr>\n",
       "      <th>1</th>\n",
       "      <td>2401</td>\n",
       "      <td>Borderlands</td>\n",
       "      <td>Positive</td>\n",
       "      <td>im getting on borderlands and i will kill you ...</td>\n",
       "    </tr>\n",
       "    <tr>\n",
       "      <th>2</th>\n",
       "      <td>2401</td>\n",
       "      <td>Borderlands</td>\n",
       "      <td>Positive</td>\n",
       "      <td>im coming on borderlands and i will murder you...</td>\n",
       "    </tr>\n",
       "    <tr>\n",
       "      <th>3</th>\n",
       "      <td>2401</td>\n",
       "      <td>Borderlands</td>\n",
       "      <td>Positive</td>\n",
       "      <td>im getting on borderlands 2 and i will murder ...</td>\n",
       "    </tr>\n",
       "    <tr>\n",
       "      <th>4</th>\n",
       "      <td>2401</td>\n",
       "      <td>Borderlands</td>\n",
       "      <td>Positive</td>\n",
       "      <td>im getting into borderlands and i can murder y...</td>\n",
       "    </tr>\n",
       "  </tbody>\n",
       "</table>\n",
       "</div>"
      ],
      "text/plain": [
       "   2401  Borderlands  Positive  \\\n",
       "0  2401  Borderlands  Positive   \n",
       "1  2401  Borderlands  Positive   \n",
       "2  2401  Borderlands  Positive   \n",
       "3  2401  Borderlands  Positive   \n",
       "4  2401  Borderlands  Positive   \n",
       "\n",
       "  im getting on borderlands and i will murder you all ,  \n",
       "0  I am coming to the borders and I will kill you...     \n",
       "1  im getting on borderlands and i will kill you ...     \n",
       "2  im coming on borderlands and i will murder you...     \n",
       "3  im getting on borderlands 2 and i will murder ...     \n",
       "4  im getting into borderlands and i can murder y...     "
      ]
     },
     "metadata": {},
     "output_type": "display_data"
    },
    {
     "name": "stdout",
     "output_type": "stream",
     "text": [
      "------------------------------------------------------------------------------------\n",
      "Основная информация df.info():\n",
      "<class 'pandas.core.frame.DataFrame'>\n",
      "RangeIndex: 74681 entries, 0 to 74680\n",
      "Data columns (total 4 columns):\n",
      " #   Column                                                 Non-Null Count  Dtype \n",
      "---  ------                                                 --------------  ----- \n",
      " 0   2401                                                   74681 non-null  int64 \n",
      " 1   Borderlands                                            74681 non-null  object\n",
      " 2   Positive                                               74681 non-null  object\n",
      " 3   im getting on borderlands and i will murder you all ,  73995 non-null  object\n",
      "dtypes: int64(1), object(3)\n",
      "memory usage: 2.3+ MB\n",
      "------------------------------------------------------------------------------------\n"
     ]
    },
    {
     "data": {
      "text/html": [
       "<div>\n",
       "<style scoped>\n",
       "    .dataframe tbody tr th:only-of-type {\n",
       "        vertical-align: middle;\n",
       "    }\n",
       "\n",
       "    .dataframe tbody tr th {\n",
       "        vertical-align: top;\n",
       "    }\n",
       "\n",
       "    .dataframe thead th {\n",
       "        text-align: right;\n",
       "    }\n",
       "</style>\n",
       "<table border=\"1\" class=\"dataframe\">\n",
       "  <thead>\n",
       "    <tr style=\"text-align: right;\">\n",
       "      <th></th>\n",
       "      <th>Количество пропущенных значений</th>\n",
       "    </tr>\n",
       "  </thead>\n",
       "  <tbody>\n",
       "    <tr>\n",
       "      <th>2401</th>\n",
       "      <td>0</td>\n",
       "    </tr>\n",
       "    <tr>\n",
       "      <th>Borderlands</th>\n",
       "      <td>0</td>\n",
       "    </tr>\n",
       "    <tr>\n",
       "      <th>Positive</th>\n",
       "      <td>0</td>\n",
       "    </tr>\n",
       "    <tr>\n",
       "      <th>im getting on borderlands and i will murder you all ,</th>\n",
       "      <td>686</td>\n",
       "    </tr>\n",
       "  </tbody>\n",
       "</table>\n",
       "</div>"
      ],
      "text/plain": [
       "                                                    Количество пропущенных значений\n",
       "2401                                                                              0\n",
       "Borderlands                                                                       0\n",
       "Positive                                                                          0\n",
       "im getting on borderlands and i will murder you...                              686"
      ]
     },
     "metadata": {},
     "output_type": "display_data"
    },
    {
     "name": "stdout",
     "output_type": "stream",
     "text": [
      "------------------------------------------------------------------------------------\n",
      "Количество дубликатов: 2700\n",
      "------------------------------------------------------------------------------------\n"
     ]
    }
   ],
   "source": [
    "data_info(data)"
   ]
  },
  {
   "cell_type": "code",
   "execution_count": 8,
   "id": "13261d1f",
   "metadata": {},
   "outputs": [],
   "source": [
    "data.columns=['id','games/apps','sentiment_type','text']"
   ]
  },
  {
   "cell_type": "code",
   "execution_count": 9,
   "id": "9efc66c5",
   "metadata": {},
   "outputs": [
    {
     "data": {
      "text/html": [
       "<div>\n",
       "<style scoped>\n",
       "    .dataframe tbody tr th:only-of-type {\n",
       "        vertical-align: middle;\n",
       "    }\n",
       "\n",
       "    .dataframe tbody tr th {\n",
       "        vertical-align: top;\n",
       "    }\n",
       "\n",
       "    .dataframe thead th {\n",
       "        text-align: right;\n",
       "    }\n",
       "</style>\n",
       "<table border=\"1\" class=\"dataframe\">\n",
       "  <thead>\n",
       "    <tr style=\"text-align: right;\">\n",
       "      <th></th>\n",
       "      <th>id</th>\n",
       "      <th>games/apps</th>\n",
       "      <th>sentiment_type</th>\n",
       "      <th>text</th>\n",
       "    </tr>\n",
       "  </thead>\n",
       "  <tbody>\n",
       "    <tr>\n",
       "      <th>0</th>\n",
       "      <td>2401</td>\n",
       "      <td>Borderlands</td>\n",
       "      <td>Positive</td>\n",
       "      <td>I am coming to the borders and I will kill you...</td>\n",
       "    </tr>\n",
       "    <tr>\n",
       "      <th>1</th>\n",
       "      <td>2401</td>\n",
       "      <td>Borderlands</td>\n",
       "      <td>Positive</td>\n",
       "      <td>im getting on borderlands and i will kill you ...</td>\n",
       "    </tr>\n",
       "    <tr>\n",
       "      <th>2</th>\n",
       "      <td>2401</td>\n",
       "      <td>Borderlands</td>\n",
       "      <td>Positive</td>\n",
       "      <td>im coming on borderlands and i will murder you...</td>\n",
       "    </tr>\n",
       "    <tr>\n",
       "      <th>3</th>\n",
       "      <td>2401</td>\n",
       "      <td>Borderlands</td>\n",
       "      <td>Positive</td>\n",
       "      <td>im getting on borderlands 2 and i will murder ...</td>\n",
       "    </tr>\n",
       "    <tr>\n",
       "      <th>4</th>\n",
       "      <td>2401</td>\n",
       "      <td>Borderlands</td>\n",
       "      <td>Positive</td>\n",
       "      <td>im getting into borderlands and i can murder y...</td>\n",
       "    </tr>\n",
       "    <tr>\n",
       "      <th>...</th>\n",
       "      <td>...</td>\n",
       "      <td>...</td>\n",
       "      <td>...</td>\n",
       "      <td>...</td>\n",
       "    </tr>\n",
       "    <tr>\n",
       "      <th>74676</th>\n",
       "      <td>9200</td>\n",
       "      <td>Nvidia</td>\n",
       "      <td>Positive</td>\n",
       "      <td>Just realized that the Windows partition of my...</td>\n",
       "    </tr>\n",
       "    <tr>\n",
       "      <th>74677</th>\n",
       "      <td>9200</td>\n",
       "      <td>Nvidia</td>\n",
       "      <td>Positive</td>\n",
       "      <td>Just realized that my Mac window partition is ...</td>\n",
       "    </tr>\n",
       "    <tr>\n",
       "      <th>74678</th>\n",
       "      <td>9200</td>\n",
       "      <td>Nvidia</td>\n",
       "      <td>Positive</td>\n",
       "      <td>Just realized the windows partition of my Mac ...</td>\n",
       "    </tr>\n",
       "    <tr>\n",
       "      <th>74679</th>\n",
       "      <td>9200</td>\n",
       "      <td>Nvidia</td>\n",
       "      <td>Positive</td>\n",
       "      <td>Just realized between the windows partition of...</td>\n",
       "    </tr>\n",
       "    <tr>\n",
       "      <th>74680</th>\n",
       "      <td>9200</td>\n",
       "      <td>Nvidia</td>\n",
       "      <td>Positive</td>\n",
       "      <td>Just like the windows partition of my Mac is l...</td>\n",
       "    </tr>\n",
       "  </tbody>\n",
       "</table>\n",
       "<p>74681 rows × 4 columns</p>\n",
       "</div>"
      ],
      "text/plain": [
       "         id   games/apps sentiment_type  \\\n",
       "0      2401  Borderlands       Positive   \n",
       "1      2401  Borderlands       Positive   \n",
       "2      2401  Borderlands       Positive   \n",
       "3      2401  Borderlands       Positive   \n",
       "4      2401  Borderlands       Positive   \n",
       "...     ...          ...            ...   \n",
       "74676  9200       Nvidia       Positive   \n",
       "74677  9200       Nvidia       Positive   \n",
       "74678  9200       Nvidia       Positive   \n",
       "74679  9200       Nvidia       Positive   \n",
       "74680  9200       Nvidia       Positive   \n",
       "\n",
       "                                                    text  \n",
       "0      I am coming to the borders and I will kill you...  \n",
       "1      im getting on borderlands and i will kill you ...  \n",
       "2      im coming on borderlands and i will murder you...  \n",
       "3      im getting on borderlands 2 and i will murder ...  \n",
       "4      im getting into borderlands and i can murder y...  \n",
       "...                                                  ...  \n",
       "74676  Just realized that the Windows partition of my...  \n",
       "74677  Just realized that my Mac window partition is ...  \n",
       "74678  Just realized the windows partition of my Mac ...  \n",
       "74679  Just realized between the windows partition of...  \n",
       "74680  Just like the windows partition of my Mac is l...  \n",
       "\n",
       "[74681 rows x 4 columns]"
      ]
     },
     "execution_count": 9,
     "metadata": {},
     "output_type": "execute_result"
    }
   ],
   "source": [
    "data"
   ]
  },
  {
   "cell_type": "markdown",
   "id": "c14d7c9e",
   "metadata": {},
   "source": [
    "В данном случае нет возможности заменить пропуски в столбце текст, поэтому удалим их (тем более их не много)."
   ]
  },
  {
   "cell_type": "code",
   "execution_count": 10,
   "id": "0cb3a69a",
   "metadata": {},
   "outputs": [],
   "source": [
    "data=data.dropna()"
   ]
  },
  {
   "cell_type": "code",
   "execution_count": 11,
   "id": "e788af37",
   "metadata": {},
   "outputs": [],
   "source": [
    "data=data.drop_duplicates()"
   ]
  },
  {
   "cell_type": "code",
   "execution_count": 12,
   "id": "5ac12736",
   "metadata": {},
   "outputs": [
    {
     "name": "stdout",
     "output_type": "stream",
     "text": [
      "Первые 5 строк в датафрейме:\n"
     ]
    },
    {
     "data": {
      "text/html": [
       "<div>\n",
       "<style scoped>\n",
       "    .dataframe tbody tr th:only-of-type {\n",
       "        vertical-align: middle;\n",
       "    }\n",
       "\n",
       "    .dataframe tbody tr th {\n",
       "        vertical-align: top;\n",
       "    }\n",
       "\n",
       "    .dataframe thead th {\n",
       "        text-align: right;\n",
       "    }\n",
       "</style>\n",
       "<table border=\"1\" class=\"dataframe\">\n",
       "  <thead>\n",
       "    <tr style=\"text-align: right;\">\n",
       "      <th></th>\n",
       "      <th>id</th>\n",
       "      <th>games/apps</th>\n",
       "      <th>sentiment_type</th>\n",
       "      <th>text</th>\n",
       "    </tr>\n",
       "  </thead>\n",
       "  <tbody>\n",
       "    <tr>\n",
       "      <th>0</th>\n",
       "      <td>2401</td>\n",
       "      <td>Borderlands</td>\n",
       "      <td>Positive</td>\n",
       "      <td>I am coming to the borders and I will kill you...</td>\n",
       "    </tr>\n",
       "    <tr>\n",
       "      <th>1</th>\n",
       "      <td>2401</td>\n",
       "      <td>Borderlands</td>\n",
       "      <td>Positive</td>\n",
       "      <td>im getting on borderlands and i will kill you ...</td>\n",
       "    </tr>\n",
       "    <tr>\n",
       "      <th>2</th>\n",
       "      <td>2401</td>\n",
       "      <td>Borderlands</td>\n",
       "      <td>Positive</td>\n",
       "      <td>im coming on borderlands and i will murder you...</td>\n",
       "    </tr>\n",
       "    <tr>\n",
       "      <th>3</th>\n",
       "      <td>2401</td>\n",
       "      <td>Borderlands</td>\n",
       "      <td>Positive</td>\n",
       "      <td>im getting on borderlands 2 and i will murder ...</td>\n",
       "    </tr>\n",
       "    <tr>\n",
       "      <th>4</th>\n",
       "      <td>2401</td>\n",
       "      <td>Borderlands</td>\n",
       "      <td>Positive</td>\n",
       "      <td>im getting into borderlands and i can murder y...</td>\n",
       "    </tr>\n",
       "  </tbody>\n",
       "</table>\n",
       "</div>"
      ],
      "text/plain": [
       "     id   games/apps sentiment_type  \\\n",
       "0  2401  Borderlands       Positive   \n",
       "1  2401  Borderlands       Positive   \n",
       "2  2401  Borderlands       Positive   \n",
       "3  2401  Borderlands       Positive   \n",
       "4  2401  Borderlands       Positive   \n",
       "\n",
       "                                                text  \n",
       "0  I am coming to the borders and I will kill you...  \n",
       "1  im getting on borderlands and i will kill you ...  \n",
       "2  im coming on borderlands and i will murder you...  \n",
       "3  im getting on borderlands 2 and i will murder ...  \n",
       "4  im getting into borderlands and i can murder y...  "
      ]
     },
     "metadata": {},
     "output_type": "display_data"
    },
    {
     "name": "stdout",
     "output_type": "stream",
     "text": [
      "------------------------------------------------------------------------------------\n",
      "Основная информация df.info():\n",
      "<class 'pandas.core.frame.DataFrame'>\n",
      "Int64Index: 71655 entries, 0 to 74680\n",
      "Data columns (total 4 columns):\n",
      " #   Column          Non-Null Count  Dtype \n",
      "---  ------          --------------  ----- \n",
      " 0   id              71655 non-null  int64 \n",
      " 1   games/apps      71655 non-null  object\n",
      " 2   sentiment_type  71655 non-null  object\n",
      " 3   text            71655 non-null  object\n",
      "dtypes: int64(1), object(3)\n",
      "memory usage: 2.7+ MB\n",
      "------------------------------------------------------------------------------------\n"
     ]
    },
    {
     "data": {
      "text/html": [
       "<div>\n",
       "<style scoped>\n",
       "    .dataframe tbody tr th:only-of-type {\n",
       "        vertical-align: middle;\n",
       "    }\n",
       "\n",
       "    .dataframe tbody tr th {\n",
       "        vertical-align: top;\n",
       "    }\n",
       "\n",
       "    .dataframe thead th {\n",
       "        text-align: right;\n",
       "    }\n",
       "</style>\n",
       "<table border=\"1\" class=\"dataframe\">\n",
       "  <thead>\n",
       "    <tr style=\"text-align: right;\">\n",
       "      <th></th>\n",
       "      <th>Количество пропущенных значений</th>\n",
       "    </tr>\n",
       "  </thead>\n",
       "  <tbody>\n",
       "    <tr>\n",
       "      <th>id</th>\n",
       "      <td>0</td>\n",
       "    </tr>\n",
       "    <tr>\n",
       "      <th>games/apps</th>\n",
       "      <td>0</td>\n",
       "    </tr>\n",
       "    <tr>\n",
       "      <th>sentiment_type</th>\n",
       "      <td>0</td>\n",
       "    </tr>\n",
       "    <tr>\n",
       "      <th>text</th>\n",
       "      <td>0</td>\n",
       "    </tr>\n",
       "  </tbody>\n",
       "</table>\n",
       "</div>"
      ],
      "text/plain": [
       "                Количество пропущенных значений\n",
       "id                                            0\n",
       "games/apps                                    0\n",
       "sentiment_type                                0\n",
       "text                                          0"
      ]
     },
     "metadata": {},
     "output_type": "display_data"
    },
    {
     "name": "stdout",
     "output_type": "stream",
     "text": [
      "------------------------------------------------------------------------------------\n",
      "Количество дубликатов: 0\n",
      "------------------------------------------------------------------------------------\n"
     ]
    }
   ],
   "source": [
    "data_info(data)"
   ]
  },
  {
   "cell_type": "code",
   "execution_count": 13,
   "id": "c61b5ff1",
   "metadata": {},
   "outputs": [
    {
     "data": {
      "image/png": "[encoded data removed]",
      "text/plain": [
       "<Figure size 640x480 with 1 Axes>"
      ]
     },
     "metadata": {},
     "output_type": "display_data"
    }
   ],
   "source": [
    "data['sentiment_type'].value_counts().plot(kind='bar');\n",
    "plt.title('Категории твитов по эмоциональному окрасу');\n",
    "plt.xlabel('Категории');\n",
    "plt.ylabel('Кол-во твитов');"
   ]
  },
  {
   "cell_type": "markdown",
   "id": "fdf27df3",
   "metadata": {},
   "source": [
    "Дисбаланса классов не наблюдается. Можно использовать метрику accuracy"
   ]
  },
  {
   "cell_type": "code",
   "execution_count": 14,
   "id": "acc0bc3e",
   "metadata": {},
   "outputs": [],
   "source": [
    "from sklearn.feature_extraction.text import TfidfVectorizer\n",
    "\n"
   ]
  },
  {
   "cell_type": "code",
   "execution_count": 15,
   "id": "b64d933a",
   "metadata": {},
   "outputs": [
    {
     "data": {
      "text/html": [
       "<div>\n",
       "<style scoped>\n",
       "    .dataframe tbody tr th:only-of-type {\n",
       "        vertical-align: middle;\n",
       "    }\n",
       "\n",
       "    .dataframe tbody tr th {\n",
       "        vertical-align: top;\n",
       "    }\n",
       "\n",
       "    .dataframe thead th {\n",
       "        text-align: right;\n",
       "    }\n",
       "</style>\n",
       "<table border=\"1\" class=\"dataframe\">\n",
       "  <thead>\n",
       "    <tr style=\"text-align: right;\">\n",
       "      <th></th>\n",
       "      <th>id</th>\n",
       "      <th>games/apps</th>\n",
       "      <th>sentiment_type</th>\n",
       "      <th>text</th>\n",
       "    </tr>\n",
       "  </thead>\n",
       "  <tbody>\n",
       "    <tr>\n",
       "      <th>0</th>\n",
       "      <td>2401</td>\n",
       "      <td>Borderlands</td>\n",
       "      <td>Positive</td>\n",
       "      <td>I am coming to the borders and I will kill you all,</td>\n",
       "    </tr>\n",
       "    <tr>\n",
       "      <th>1</th>\n",
       "      <td>2401</td>\n",
       "      <td>Borderlands</td>\n",
       "      <td>Positive</td>\n",
       "      <td>im getting on borderlands and i will kill you all,</td>\n",
       "    </tr>\n",
       "    <tr>\n",
       "      <th>2</th>\n",
       "      <td>2401</td>\n",
       "      <td>Borderlands</td>\n",
       "      <td>Positive</td>\n",
       "      <td>im coming on borderlands and i will murder you all,</td>\n",
       "    </tr>\n",
       "    <tr>\n",
       "      <th>3</th>\n",
       "      <td>2401</td>\n",
       "      <td>Borderlands</td>\n",
       "      <td>Positive</td>\n",
       "      <td>im getting on borderlands 2 and i will murder you me all,</td>\n",
       "    </tr>\n",
       "    <tr>\n",
       "      <th>4</th>\n",
       "      <td>2401</td>\n",
       "      <td>Borderlands</td>\n",
       "      <td>Positive</td>\n",
       "      <td>im getting into borderlands and i can murder you all,</td>\n",
       "    </tr>\n",
       "    <tr>\n",
       "      <th>5</th>\n",
       "      <td>2402</td>\n",
       "      <td>Borderlands</td>\n",
       "      <td>Positive</td>\n",
       "      <td>So I spent a few hours making something for fun. . . If you don't know I am a HUGE @Borderlands ...</td>\n",
       "    </tr>\n",
       "    <tr>\n",
       "      <th>6</th>\n",
       "      <td>2402</td>\n",
       "      <td>Borderlands</td>\n",
       "      <td>Positive</td>\n",
       "      <td>So I spent a couple of hours doing something for fun... If you don't know that I'm a huge @ Bord...</td>\n",
       "    </tr>\n",
       "    <tr>\n",
       "      <th>7</th>\n",
       "      <td>2402</td>\n",
       "      <td>Borderlands</td>\n",
       "      <td>Positive</td>\n",
       "      <td>So I spent a few hours doing something for fun... If you don't know I'm a HUGE @ Borderlands fan...</td>\n",
       "    </tr>\n",
       "    <tr>\n",
       "      <th>8</th>\n",
       "      <td>2402</td>\n",
       "      <td>Borderlands</td>\n",
       "      <td>Positive</td>\n",
       "      <td>So I spent a few hours making something for fun. . . If you don't know I am a HUGE RhandlerR fan...</td>\n",
       "    </tr>\n",
       "    <tr>\n",
       "      <th>9</th>\n",
       "      <td>2402</td>\n",
       "      <td>Borderlands</td>\n",
       "      <td>Positive</td>\n",
       "      <td>2010 So I spent a few hours making something for fun. . . If you don't know I am a HUGE Rhandler...</td>\n",
       "    </tr>\n",
       "    <tr>\n",
       "      <th>10</th>\n",
       "      <td>2402</td>\n",
       "      <td>Borderlands</td>\n",
       "      <td>Positive</td>\n",
       "      <td>was</td>\n",
       "    </tr>\n",
       "    <tr>\n",
       "      <th>11</th>\n",
       "      <td>2403</td>\n",
       "      <td>Borderlands</td>\n",
       "      <td>Neutral</td>\n",
       "      <td>Rock-Hard La Varlope, RARE &amp; POWERFUL, HANDSOME JACKPOT, Borderlands 3 (Xbox) dlvr.it/RMTrgF</td>\n",
       "    </tr>\n",
       "    <tr>\n",
       "      <th>12</th>\n",
       "      <td>2403</td>\n",
       "      <td>Borderlands</td>\n",
       "      <td>Neutral</td>\n",
       "      <td>Rock-Hard La Varlope, RARE &amp; POWERFUL, HANDSOME JACKPOT, Borderlands 3 (Xbox) dlvr.it / RMTrgF</td>\n",
       "    </tr>\n",
       "    <tr>\n",
       "      <th>13</th>\n",
       "      <td>2403</td>\n",
       "      <td>Borderlands</td>\n",
       "      <td>Neutral</td>\n",
       "      <td>Rock-Hard La Varlope, RARE &amp; POWERFUL, HANDSOME JACKPOT, Borderlands 3 (Xbox) dfr.it / RMTrgF</td>\n",
       "    </tr>\n",
       "    <tr>\n",
       "      <th>14</th>\n",
       "      <td>2403</td>\n",
       "      <td>Borderlands</td>\n",
       "      <td>Neutral</td>\n",
       "      <td>Rock-Hard La Vita, RARE BUT POWERFUL, HANDSOME JACKPOT, Borderlands 1 (Xbox) dlvr.it/RMTrgF</td>\n",
       "    </tr>\n",
       "    <tr>\n",
       "      <th>15</th>\n",
       "      <td>2403</td>\n",
       "      <td>Borderlands</td>\n",
       "      <td>Neutral</td>\n",
       "      <td>Live Rock - Hard music La la Varlope, RARE &amp; the POWERFUL, Live HANDSOME i JACKPOT, Borderlands ...</td>\n",
       "    </tr>\n",
       "    <tr>\n",
       "      <th>16</th>\n",
       "      <td>2403</td>\n",
       "      <td>Borderlands</td>\n",
       "      <td>Neutral</td>\n",
       "      <td>I-Hard like me, RARE LONDON DE, HANDSOME 2011, Borderlands 3 (Xbox) dlvr.it/RMTrgF</td>\n",
       "    </tr>\n",
       "    <tr>\n",
       "      <th>17</th>\n",
       "      <td>2404</td>\n",
       "      <td>Borderlands</td>\n",
       "      <td>Positive</td>\n",
       "      <td>that was the first borderlands session in a long time where i actually had a really satisfying c...</td>\n",
       "    </tr>\n",
       "    <tr>\n",
       "      <th>18</th>\n",
       "      <td>2404</td>\n",
       "      <td>Borderlands</td>\n",
       "      <td>Positive</td>\n",
       "      <td>this was the first Borderlands session in a long time where i actually had a really satisfying f...</td>\n",
       "    </tr>\n",
       "    <tr>\n",
       "      <th>20</th>\n",
       "      <td>2404</td>\n",
       "      <td>Borderlands</td>\n",
       "      <td>Positive</td>\n",
       "      <td>that was the first borderlands session in a long time where i actually enjoyed a really satisfyi...</td>\n",
       "    </tr>\n",
       "    <tr>\n",
       "      <th>21</th>\n",
       "      <td>2404</td>\n",
       "      <td>Borderlands</td>\n",
       "      <td>Positive</td>\n",
       "      <td>that I was the first real borderlands session in a nice long wait time where i actually had a re...</td>\n",
       "    </tr>\n",
       "    <tr>\n",
       "      <th>22</th>\n",
       "      <td>2404</td>\n",
       "      <td>Borderlands</td>\n",
       "      <td>Positive</td>\n",
       "      <td>that was the first borderlands session in a hot row where i actually had a really bad combat exp...</td>\n",
       "    </tr>\n",
       "    <tr>\n",
       "      <th>23</th>\n",
       "      <td>2405</td>\n",
       "      <td>Borderlands</td>\n",
       "      <td>Negative</td>\n",
       "      <td>the biggest dissappoinment in my life came out a year ago fuck borderlands 3</td>\n",
       "    </tr>\n",
       "    <tr>\n",
       "      <th>24</th>\n",
       "      <td>2405</td>\n",
       "      <td>Borderlands</td>\n",
       "      <td>Negative</td>\n",
       "      <td>The biggest disappointment of my life came a year ago.</td>\n",
       "    </tr>\n",
       "    <tr>\n",
       "      <th>26</th>\n",
       "      <td>2405</td>\n",
       "      <td>Borderlands</td>\n",
       "      <td>Negative</td>\n",
       "      <td>the biggest dissappoinment in my life coming out a year ago fuck borderlands 3</td>\n",
       "    </tr>\n",
       "    <tr>\n",
       "      <th>27</th>\n",
       "      <td>2405</td>\n",
       "      <td>Borderlands</td>\n",
       "      <td>Negative</td>\n",
       "      <td>For the biggest male dissappoinment in my life came hanging out a year time ago fuck borderlands 3</td>\n",
       "    </tr>\n",
       "    <tr>\n",
       "      <th>28</th>\n",
       "      <td>2405</td>\n",
       "      <td>Borderlands</td>\n",
       "      <td>Negative</td>\n",
       "      <td>the biggest dissappoinment in my life came back last year ago fuck borderlands last</td>\n",
       "    </tr>\n",
       "    <tr>\n",
       "      <th>29</th>\n",
       "      <td>2406</td>\n",
       "      <td>Borderlands</td>\n",
       "      <td>Positive</td>\n",
       "      <td>WE FINISHED BORDERLANDS 3 FINALLY YAS! Thank you for hanging out everyone! It was fun. I will tr...</td>\n",
       "    </tr>\n",
       "    <tr>\n",
       "      <th>30</th>\n",
       "      <td>2406</td>\n",
       "      <td>Borderlands</td>\n",
       "      <td>Positive</td>\n",
       "      <td>WE FINALLY FINALLY FIND BORDERLANDS 3 YES! Thank you all for hanging out! It was fun. I'll try t...</td>\n",
       "    </tr>\n",
       "    <tr>\n",
       "      <th>31</th>\n",
       "      <td>2406</td>\n",
       "      <td>Borderlands</td>\n",
       "      <td>Positive</td>\n",
       "      <td>Thank you for hanging up everyone! It was fun. I'll try to get a haircut tomorrow, but if it was...</td>\n",
       "    </tr>\n",
       "  </tbody>\n",
       "</table>\n",
       "</div>"
      ],
      "text/plain": [
       "      id   games/apps sentiment_type  \\\n",
       "0   2401  Borderlands       Positive   \n",
       "1   2401  Borderlands       Positive   \n",
       "2   2401  Borderlands       Positive   \n",
       "3   2401  Borderlands       Positive   \n",
       "4   2401  Borderlands       Positive   \n",
       "5   2402  Borderlands       Positive   \n",
       "6   2402  Borderlands       Positive   \n",
       "7   2402  Borderlands       Positive   \n",
       "8   2402  Borderlands       Positive   \n",
       "9   2402  Borderlands       Positive   \n",
       "10  2402  Borderlands       Positive   \n",
       "11  2403  Borderlands        Neutral   \n",
       "12  2403  Borderlands        Neutral   \n",
       "13  2403  Borderlands        Neutral   \n",
       "14  2403  Borderlands        Neutral   \n",
       "15  2403  Borderlands        Neutral   \n",
       "16  2403  Borderlands        Neutral   \n",
       "17  2404  Borderlands       Positive   \n",
       "18  2404  Borderlands       Positive   \n",
       "20  2404  Borderlands       Positive   \n",
       "21  2404  Borderlands       Positive   \n",
       "22  2404  Borderlands       Positive   \n",
       "23  2405  Borderlands       Negative   \n",
       "24  2405  Borderlands       Negative   \n",
       "26  2405  Borderlands       Negative   \n",
       "27  2405  Borderlands       Negative   \n",
       "28  2405  Borderlands       Negative   \n",
       "29  2406  Borderlands       Positive   \n",
       "30  2406  Borderlands       Positive   \n",
       "31  2406  Borderlands       Positive   \n",
       "\n",
       "                                                                                                   text  \n",
       "0                                                   I am coming to the borders and I will kill you all,  \n",
       "1                                                    im getting on borderlands and i will kill you all,  \n",
       "2                                                   im coming on borderlands and i will murder you all,  \n",
       "3                                             im getting on borderlands 2 and i will murder you me all,  \n",
       "4                                                 im getting into borderlands and i can murder you all,  \n",
       "5   So I spent a few hours making something for fun. . . If you don't know I am a HUGE @Borderlands ...  \n",
       "6   So I spent a couple of hours doing something for fun... If you don't know that I'm a huge @ Bord...  \n",
       "7   So I spent a few hours doing something for fun... If you don't know I'm a HUGE @ Borderlands fan...  \n",
       "8   So I spent a few hours making something for fun. . . If you don't know I am a HUGE RhandlerR fan...  \n",
       "9   2010 So I spent a few hours making something for fun. . . If you don't know I am a HUGE Rhandler...  \n",
       "10                                                                                                  was  \n",
       "11       Rock-Hard La Varlope, RARE & POWERFUL, HANDSOME JACKPOT, Borderlands 3 (Xbox) dlvr.it/RMTrgF    \n",
       "12       Rock-Hard La Varlope, RARE & POWERFUL, HANDSOME JACKPOT, Borderlands 3 (Xbox) dlvr.it / RMTrgF  \n",
       "13        Rock-Hard La Varlope, RARE & POWERFUL, HANDSOME JACKPOT, Borderlands 3 (Xbox) dfr.it / RMTrgF  \n",
       "14          Rock-Hard La Vita, RARE BUT POWERFUL, HANDSOME JACKPOT, Borderlands 1 (Xbox) dlvr.it/RMTrgF  \n",
       "15  Live Rock - Hard music La la Varlope, RARE & the POWERFUL, Live HANDSOME i JACKPOT, Borderlands ...  \n",
       "16                   I-Hard like me, RARE LONDON DE, HANDSOME 2011, Borderlands 3 (Xbox) dlvr.it/RMTrgF  \n",
       "17  that was the first borderlands session in a long time where i actually had a really satisfying c...  \n",
       "18  this was the first Borderlands session in a long time where i actually had a really satisfying f...  \n",
       "20  that was the first borderlands session in a long time where i actually enjoyed a really satisfyi...  \n",
       "21  that I was the first real borderlands session in a nice long wait time where i actually had a re...  \n",
       "22  that was the first borderlands session in a hot row where i actually had a really bad combat exp...  \n",
       "23                         the biggest dissappoinment in my life came out a year ago fuck borderlands 3  \n",
       "24                                               The biggest disappointment of my life came a year ago.  \n",
       "26                       the biggest dissappoinment in my life coming out a year ago fuck borderlands 3  \n",
       "27   For the biggest male dissappoinment in my life came hanging out a year time ago fuck borderlands 3  \n",
       "28                  the biggest dissappoinment in my life came back last year ago fuck borderlands last  \n",
       "29  WE FINISHED BORDERLANDS 3 FINALLY YAS! Thank you for hanging out everyone! It was fun. I will tr...  \n",
       "30  WE FINALLY FINALLY FIND BORDERLANDS 3 YES! Thank you all for hanging out! It was fun. I'll try t...  \n",
       "31  Thank you for hanging up everyone! It was fun. I'll try to get a haircut tomorrow, but if it was...  "
      ]
     },
     "execution_count": 15,
     "metadata": {},
     "output_type": "execute_result"
    }
   ],
   "source": [
    "pd.set_option('display.max_colwidth', 100)\n",
    "data.head(30)"
   ]
  },
  {
   "cell_type": "code",
   "execution_count": 16,
   "id": "ee31dcf6",
   "metadata": {},
   "outputs": [],
   "source": [
    "data['text'] = data['text'].str.lower()"
   ]
  },
  {
   "cell_type": "markdown",
   "id": "7f5c91f8",
   "metadata": {},
   "source": [
    "Загрузим и добавим стоп-слова"
   ]
  },
  {
   "cell_type": "code",
   "execution_count": 17,
   "id": "1544fc42",
   "metadata": {},
   "outputs": [
    {
     "name": "stderr",
     "output_type": "stream",
     "text": [
      "[nltk_data] Downloading package stopwords to\n",
      "[nltk_data]     C:\\Users\\user\\AppData\\Roaming\\nltk_data...\n",
      "[nltk_data]   Package stopwords is already up-to-date!\n",
      "[nltk_data] Downloading package punkt to\n",
      "[nltk_data]     C:\\Users\\user\\AppData\\Roaming\\nltk_data...\n",
      "[nltk_data]   Package punkt is already up-to-date!\n"
     ]
    }
   ],
   "source": [
    "import nltk\n",
    "from nltk.corpus import stopwords\n",
    "from nltk.tokenize import word_tokenize\n",
    "import string\n",
    "\n",
    "\n",
    "nltk.download('stopwords')\n",
    "nltk.download('punkt')\n",
    "\n",
    "\n",
    "stop_words = set(stopwords.words('english'))"
   ]
  },
  {
   "cell_type": "code",
   "execution_count": 18,
   "id": "170b60cd",
   "metadata": {},
   "outputs": [
    {
     "name": "stdout",
     "output_type": "stream",
     "text": [
      "{'once', 'the', 've', 'off', 'too', 'this', 'other', 'she', \"you'll\", 'when', \"you're\", 'against', 'my', 'doing', 'where', 'before', 'shouldn', 'do', \"you've\", 'and', 'very', 'than', 'because', 'who', 'now', 'its', 'what', \"isn't\", \"doesn't\", 'shan', 's', 'yours', \"weren't\", \"you'd\", \"couldn't\", 'doesn', \"needn't\", 'were', 'during', 'below', 'mustn', 'being', 'not', 'wasn', 'yourselves', 'be', \"didn't\", 'down', 'nor', 'will', 'don', 'they', 'i', 'are', \"shouldn't\", 'few', 'how', 'if', \"should've\", 'ma', 'weren', 'themselves', 'll', 'as', 'under', 'up', 'theirs', 'with', 'he', \"won't\", 'at', 'which', 'on', 'further', 'only', \"mustn't\", 'it', 'for', 'was', 'her', \"wouldn't\", 'those', \"hasn't\", 'them', 'm', \"shan't\", 'there', 'can', 'a', 'an', 'own', 'himself', 'y', 'does', 'to', 'mightn', 'you', \"mightn't\", 'by', 'ourselves', 'again', 'itself', 'hadn', 'all', \"aren't\", 'each', 'so', 'that', 'hers', 'him', 'until', 'whom', \"haven't\", 'same', 'more', \"wasn't\", \"it's\", 'ain', 'did', 'just', 'after', 'while', 'your', 'is', 'd', 'yourself', 'both', 'aren', 'ours', 'me', 'having', 'am', 'been', 'has', 'then', 'no', 'won', 'wouldn', 'above', 'should', 'but', \"don't\", 'haven', 'our', 'or', 'between', 'most', 'out', 'have', \"she's\", 'their', 'in', 'didn', 'such', 'why', 't', 'over', 'about', 'couldn', 'of', 'some', 'hasn', 'isn', 'any', \"hadn't\", 'through', \"that'll\", 'into', 'o', 'herself', 'from', 'needn', 'we', 'myself', 'these', 'had', 'here', 'his', 're'}\n"
     ]
    }
   ],
   "source": [
    "print(stop_words)"
   ]
  },
  {
   "cell_type": "markdown",
   "id": "7805b0ea",
   "metadata": {},
   "source": [
    "Среди стоп слов есть слова по типу don't, no и т.д. которые очень важны для оценки эмоционального окраса отзывов. \n",
    "Например, i don't like this game до удаления стоп-слов и like game приведет к совершенно другому смыслу. \n",
    "Поэтому уберем из списка стоп-слов с явным положительным/отрицательным окрасом"
   ]
  },
  {
   "cell_type": "code",
   "execution_count": 19,
   "id": "cb8dbbbd",
   "metadata": {},
   "outputs": [],
   "source": [
    "stop_words=stop_words-{'should',\"mustn't\",'won','didn',\"won't\",\"shouldn't\",'not',\"don't\",\"doesn't\", 'did', \"didn't\", \"isn't\",\n",
    "                    'has', 'hasn', \"couldn't\" , \"aren't\", \"needn't\", \"wasn't\", 'shouldn'  }"
   ]
  },
  {
   "cell_type": "code",
   "execution_count": 20,
   "id": "7bfff267",
   "metadata": {},
   "outputs": [
    {
     "name": "stdout",
     "output_type": "stream",
     "text": [
      "{'once', 'the', 've', 'off', 'too', 'this', 'other', 'she', \"you'll\", 'when', \"you're\", 'against', 'my', 'doing', 'where', 'before', 'do', \"you've\", 'and', 'very', 'than', 'because', 'who', 'now', 'its', 'what', 'shan', 's', 'yours', \"weren't\", \"you'd\", 'doesn', 'were', 'during', 'below', 'mustn', 'being', 'wasn', 'yourselves', 'be', 'down', 'nor', 'will', 'don', 'they', 'i', 'are', 'few', 'how', 'if', \"should've\", 'ma', 'weren', 'themselves', 'll', 'as', 'under', 'up', 'theirs', 'with', 'he', 'at', 'which', 'on', 'further', 'only', 'it', 'for', 'was', 'her', \"wouldn't\", 'those', \"hasn't\", 'them', 'm', \"shan't\", 'there', 'can', 'a', 'an', 'own', 'himself', 'y', 'does', 'to', 'mightn', 'you', \"mightn't\", 'by', 'ourselves', 'again', 'itself', 'hadn', 'all', 'each', 'so', 'that', 'hers', 'him', 'until', 'whom', \"haven't\", 'same', 'more', \"it's\", 'ain', 'just', 'after', 'while', 'your', 'is', 'd', 'yourself', 'both', 'aren', 'ours', 'me', 'having', 'am', 'been', 'then', 'no', 'wouldn', 'above', 'but', 'haven', 'our', 'or', 'between', 'most', 'out', 'have', \"she's\", 'their', 'in', 'such', 'why', 't', 'over', 'about', 'couldn', 'of', 'some', 'isn', 'any', \"hadn't\", 'through', \"that'll\", 'into', 'o', 'herself', 'from', 'needn', 'we', 'myself', 'these', 'had', 'here', 'his', 're'}\n"
     ]
    }
   ],
   "source": [
    "print(stop_words)\n"
   ]
  },
  {
   "cell_type": "markdown",
   "id": "664c6721",
   "metadata": {},
   "source": [
    "Удалим стоп-слова и знаки препинания "
   ]
  },
  {
   "cell_type": "code",
   "execution_count": 21,
   "id": "5befc24b",
   "metadata": {},
   "outputs": [],
   "source": [
    "def remove_stopwords(text):\n",
    "    \n",
    "    words = word_tokenize(text.lower())\n",
    "\n",
    "    filtered_words = [\n",
    "        word for word in words \n",
    "        if word not in stop_words and word not in string.punctuation\n",
    "    ]\n",
    "  \n",
    "    return ' '.join(filtered_words)"
   ]
  },
  {
   "cell_type": "code",
   "execution_count": 22,
   "id": "0a663648",
   "metadata": {},
   "outputs": [],
   "source": [
    "data['text'] = data['text'].apply(remove_stopwords)"
   ]
  },
  {
   "cell_type": "code",
   "execution_count": 23,
   "id": "29c37a86",
   "metadata": {},
   "outputs": [
    {
     "data": {
      "text/html": [
       "<div>\n",
       "<style scoped>\n",
       "    .dataframe tbody tr th:only-of-type {\n",
       "        vertical-align: middle;\n",
       "    }\n",
       "\n",
       "    .dataframe tbody tr th {\n",
       "        vertical-align: top;\n",
       "    }\n",
       "\n",
       "    .dataframe thead th {\n",
       "        text-align: right;\n",
       "    }\n",
       "</style>\n",
       "<table border=\"1\" class=\"dataframe\">\n",
       "  <thead>\n",
       "    <tr style=\"text-align: right;\">\n",
       "      <th></th>\n",
       "      <th>id</th>\n",
       "      <th>games/apps</th>\n",
       "      <th>sentiment_type</th>\n",
       "      <th>text</th>\n",
       "    </tr>\n",
       "  </thead>\n",
       "  <tbody>\n",
       "    <tr>\n",
       "      <th>0</th>\n",
       "      <td>2401</td>\n",
       "      <td>Borderlands</td>\n",
       "      <td>Positive</td>\n",
       "      <td>coming borders kill</td>\n",
       "    </tr>\n",
       "    <tr>\n",
       "      <th>1</th>\n",
       "      <td>2401</td>\n",
       "      <td>Borderlands</td>\n",
       "      <td>Positive</td>\n",
       "      <td>im getting borderlands kill</td>\n",
       "    </tr>\n",
       "    <tr>\n",
       "      <th>2</th>\n",
       "      <td>2401</td>\n",
       "      <td>Borderlands</td>\n",
       "      <td>Positive</td>\n",
       "      <td>im coming borderlands murder</td>\n",
       "    </tr>\n",
       "    <tr>\n",
       "      <th>3</th>\n",
       "      <td>2401</td>\n",
       "      <td>Borderlands</td>\n",
       "      <td>Positive</td>\n",
       "      <td>im getting borderlands 2 murder</td>\n",
       "    </tr>\n",
       "    <tr>\n",
       "      <th>4</th>\n",
       "      <td>2401</td>\n",
       "      <td>Borderlands</td>\n",
       "      <td>Positive</td>\n",
       "      <td>im getting borderlands murder</td>\n",
       "    </tr>\n",
       "    <tr>\n",
       "      <th>5</th>\n",
       "      <td>2402</td>\n",
       "      <td>Borderlands</td>\n",
       "      <td>Positive</td>\n",
       "      <td>spent hours making something fun n't know huge borderlands fan maya one favorite characters deci...</td>\n",
       "    </tr>\n",
       "    <tr>\n",
       "      <th>6</th>\n",
       "      <td>2402</td>\n",
       "      <td>Borderlands</td>\n",
       "      <td>Positive</td>\n",
       "      <td>spent couple hours something fun ... n't know 'm huge borderlands fan maya one favorite characte...</td>\n",
       "    </tr>\n",
       "    <tr>\n",
       "      <th>7</th>\n",
       "      <td>2402</td>\n",
       "      <td>Borderlands</td>\n",
       "      <td>Positive</td>\n",
       "      <td>spent hours something fun ... n't know 'm huge borderlands fan maya one favorite characters</td>\n",
       "    </tr>\n",
       "    <tr>\n",
       "      <th>8</th>\n",
       "      <td>2402</td>\n",
       "      <td>Borderlands</td>\n",
       "      <td>Positive</td>\n",
       "      <td>spent hours making something fun n't know huge rhandlerr fan maya one favorite characters decide...</td>\n",
       "    </tr>\n",
       "    <tr>\n",
       "      <th>9</th>\n",
       "      <td>2402</td>\n",
       "      <td>Borderlands</td>\n",
       "      <td>Positive</td>\n",
       "      <td>2010 spent hours making something fun n't know huge rhandlerr fan maya one favorite characters d...</td>\n",
       "    </tr>\n",
       "    <tr>\n",
       "      <th>10</th>\n",
       "      <td>2402</td>\n",
       "      <td>Borderlands</td>\n",
       "      <td>Positive</td>\n",
       "      <td></td>\n",
       "    </tr>\n",
       "    <tr>\n",
       "      <th>11</th>\n",
       "      <td>2403</td>\n",
       "      <td>Borderlands</td>\n",
       "      <td>Neutral</td>\n",
       "      <td>rock-hard la varlope rare powerful handsome jackpot borderlands 3 xbox dlvr.it/rmtrgf</td>\n",
       "    </tr>\n",
       "    <tr>\n",
       "      <th>12</th>\n",
       "      <td>2403</td>\n",
       "      <td>Borderlands</td>\n",
       "      <td>Neutral</td>\n",
       "      <td>rock-hard la varlope rare powerful handsome jackpot borderlands 3 xbox dlvr.it rmtrgf</td>\n",
       "    </tr>\n",
       "    <tr>\n",
       "      <th>13</th>\n",
       "      <td>2403</td>\n",
       "      <td>Borderlands</td>\n",
       "      <td>Neutral</td>\n",
       "      <td>rock-hard la varlope rare powerful handsome jackpot borderlands 3 xbox dfr.it rmtrgf</td>\n",
       "    </tr>\n",
       "    <tr>\n",
       "      <th>14</th>\n",
       "      <td>2403</td>\n",
       "      <td>Borderlands</td>\n",
       "      <td>Neutral</td>\n",
       "      <td>rock-hard la vita rare powerful handsome jackpot borderlands 1 xbox dlvr.it/rmtrgf</td>\n",
       "    </tr>\n",
       "    <tr>\n",
       "      <th>15</th>\n",
       "      <td>2403</td>\n",
       "      <td>Borderlands</td>\n",
       "      <td>Neutral</td>\n",
       "      <td>live rock hard music la la varlope rare powerful live handsome jackpot borderlands 3 sega xbox d...</td>\n",
       "    </tr>\n",
       "    <tr>\n",
       "      <th>16</th>\n",
       "      <td>2403</td>\n",
       "      <td>Borderlands</td>\n",
       "      <td>Neutral</td>\n",
       "      <td>i-hard like rare london de handsome 2011 borderlands 3 xbox dlvr.it/rmtrgf</td>\n",
       "    </tr>\n",
       "    <tr>\n",
       "      <th>17</th>\n",
       "      <td>2404</td>\n",
       "      <td>Borderlands</td>\n",
       "      <td>Positive</td>\n",
       "      <td>first borderlands session long time actually really satisfying combat experience got really good...</td>\n",
       "    </tr>\n",
       "    <tr>\n",
       "      <th>18</th>\n",
       "      <td>2404</td>\n",
       "      <td>Borderlands</td>\n",
       "      <td>Positive</td>\n",
       "      <td>first borderlands session long time actually really satisfying fighting experience got really go...</td>\n",
       "    </tr>\n",
       "    <tr>\n",
       "      <th>20</th>\n",
       "      <td>2404</td>\n",
       "      <td>Borderlands</td>\n",
       "      <td>Positive</td>\n",
       "      <td>first borderlands session long time actually enjoyed really satisfying combat experience got rat...</td>\n",
       "    </tr>\n",
       "  </tbody>\n",
       "</table>\n",
       "</div>"
      ],
      "text/plain": [
       "      id   games/apps sentiment_type  \\\n",
       "0   2401  Borderlands       Positive   \n",
       "1   2401  Borderlands       Positive   \n",
       "2   2401  Borderlands       Positive   \n",
       "3   2401  Borderlands       Positive   \n",
       "4   2401  Borderlands       Positive   \n",
       "5   2402  Borderlands       Positive   \n",
       "6   2402  Borderlands       Positive   \n",
       "7   2402  Borderlands       Positive   \n",
       "8   2402  Borderlands       Positive   \n",
       "9   2402  Borderlands       Positive   \n",
       "10  2402  Borderlands       Positive   \n",
       "11  2403  Borderlands        Neutral   \n",
       "12  2403  Borderlands        Neutral   \n",
       "13  2403  Borderlands        Neutral   \n",
       "14  2403  Borderlands        Neutral   \n",
       "15  2403  Borderlands        Neutral   \n",
       "16  2403  Borderlands        Neutral   \n",
       "17  2404  Borderlands       Positive   \n",
       "18  2404  Borderlands       Positive   \n",
       "20  2404  Borderlands       Positive   \n",
       "\n",
       "                                                                                                   text  \n",
       "0                                                                                   coming borders kill  \n",
       "1                                                                           im getting borderlands kill  \n",
       "2                                                                          im coming borderlands murder  \n",
       "3                                                                       im getting borderlands 2 murder  \n",
       "4                                                                         im getting borderlands murder  \n",
       "5   spent hours making something fun n't know huge borderlands fan maya one favorite characters deci...  \n",
       "6   spent couple hours something fun ... n't know 'm huge borderlands fan maya one favorite characte...  \n",
       "7           spent hours something fun ... n't know 'm huge borderlands fan maya one favorite characters  \n",
       "8   spent hours making something fun n't know huge rhandlerr fan maya one favorite characters decide...  \n",
       "9   2010 spent hours making something fun n't know huge rhandlerr fan maya one favorite characters d...  \n",
       "10                                                                                                       \n",
       "11                rock-hard la varlope rare powerful handsome jackpot borderlands 3 xbox dlvr.it/rmtrgf  \n",
       "12                rock-hard la varlope rare powerful handsome jackpot borderlands 3 xbox dlvr.it rmtrgf  \n",
       "13                 rock-hard la varlope rare powerful handsome jackpot borderlands 3 xbox dfr.it rmtrgf  \n",
       "14                   rock-hard la vita rare powerful handsome jackpot borderlands 1 xbox dlvr.it/rmtrgf  \n",
       "15  live rock hard music la la varlope rare powerful live handsome jackpot borderlands 3 sega xbox d...  \n",
       "16                           i-hard like rare london de handsome 2011 borderlands 3 xbox dlvr.it/rmtrgf  \n",
       "17  first borderlands session long time actually really satisfying combat experience got really good...  \n",
       "18  first borderlands session long time actually really satisfying fighting experience got really go...  \n",
       "20  first borderlands session long time actually enjoyed really satisfying combat experience got rat...  "
      ]
     },
     "execution_count": 23,
     "metadata": {},
     "output_type": "execute_result"
    }
   ],
   "source": [
    "pd.set_option('display.max_colwidth', 100)\n",
    "data.head(20)"
   ]
  },
  {
   "cell_type": "markdown",
   "id": "bdaebfa7",
   "metadata": {},
   "source": [
    "Произведем лемматизацию, в том числе для сокращения размерности векторов"
   ]
  },
  {
   "cell_type": "code",
   "execution_count": 24,
   "id": "85a9499f",
   "metadata": {},
   "outputs": [
    {
     "name": "stderr",
     "output_type": "stream",
     "text": [
      "[nltk_data] Downloading package punkt to\n",
      "[nltk_data]     C:\\Users\\user\\AppData\\Roaming\\nltk_data...\n",
      "[nltk_data]   Package punkt is already up-to-date!\n",
      "[nltk_data] Downloading package wordnet to\n",
      "[nltk_data]     C:\\Users\\user\\AppData\\Roaming\\nltk_data...\n",
      "[nltk_data]   Package wordnet is already up-to-date!\n",
      "[nltk_data] Downloading package omw-1.4 to\n",
      "[nltk_data]     C:\\Users\\user\\AppData\\Roaming\\nltk_data...\n",
      "[nltk_data]   Package omw-1.4 is already up-to-date!\n",
      "[nltk_data] Downloading package averaged_perceptron_tagger to\n",
      "[nltk_data]     C:\\Users\\user\\AppData\\Roaming\\nltk_data...\n",
      "[nltk_data]   Package averaged_perceptron_tagger is already up-to-\n",
      "[nltk_data]       date!\n"
     ]
    },
    {
     "data": {
      "text/plain": [
       "True"
      ]
     },
     "execution_count": 24,
     "metadata": {},
     "output_type": "execute_result"
    }
   ],
   "source": [
    "from nltk.stem import WordNetLemmatizer\n",
    "from nltk.corpus import wordnet\n",
    "\n",
    "\n",
    "nltk.download('punkt')\n",
    "nltk.download('wordnet')\n",
    "nltk.download('omw-1.4')\n",
    "nltk.download('averaged_perceptron_tagger')"
   ]
  },
  {
   "cell_type": "markdown",
   "id": "d12c9fa9",
   "metadata": {},
   "source": [
    "Лемматизируем слов"
   ]
  },
  {
   "cell_type": "code",
   "execution_count": 25,
   "id": "bdf6d259",
   "metadata": {},
   "outputs": [],
   "source": [
    "def get_wordnet_pos(word):\n",
    "    tag = nltk.pos_tag([word])[0][1][0].upper()\n",
    "    tag_dict = {\n",
    "        'J': wordnet.ADJ,\n",
    "        'N': wordnet.NOUN,\n",
    "        'V': wordnet.VERB,\n",
    "        'R': wordnet.ADV\n",
    "    }\n",
    "    return tag_dict.get(tag, wordnet.NOUN)\n",
    "\n",
    "def lemmatize_sentence(sentence):\n",
    "    lemmatizer = WordNetLemmatizer()\n",
    "    tokens = word_tokenize(sentence)\n",
    "    lemmatized_tokens = [\n",
    "        lemmatizer.lemmatize(token, get_wordnet_pos(token)) for token in tokens\n",
    "    ]\n",
    "    return ' '.join(lemmatized_tokens)\n",
    "\n"
   ]
  },
  {
   "cell_type": "code",
   "execution_count": 26,
   "id": "2a210383",
   "metadata": {},
   "outputs": [],
   "source": [
    "#пока еще не лемматизированные данные\n",
    "data_nolem=data"
   ]
  },
  {
   "cell_type": "code",
   "execution_count": 27,
   "id": "8dfbf084",
   "metadata": {},
   "outputs": [
    {
     "data": {
      "text/html": [
       "<div>\n",
       "<style scoped>\n",
       "    .dataframe tbody tr th:only-of-type {\n",
       "        vertical-align: middle;\n",
       "    }\n",
       "\n",
       "    .dataframe tbody tr th {\n",
       "        vertical-align: top;\n",
       "    }\n",
       "\n",
       "    .dataframe thead th {\n",
       "        text-align: right;\n",
       "    }\n",
       "</style>\n",
       "<table border=\"1\" class=\"dataframe\">\n",
       "  <thead>\n",
       "    <tr style=\"text-align: right;\">\n",
       "      <th></th>\n",
       "      <th>id</th>\n",
       "      <th>games/apps</th>\n",
       "      <th>sentiment_type</th>\n",
       "      <th>text</th>\n",
       "    </tr>\n",
       "  </thead>\n",
       "  <tbody>\n",
       "    <tr>\n",
       "      <th>0</th>\n",
       "      <td>2401</td>\n",
       "      <td>Borderlands</td>\n",
       "      <td>Positive</td>\n",
       "      <td>coming borders kill</td>\n",
       "    </tr>\n",
       "    <tr>\n",
       "      <th>1</th>\n",
       "      <td>2401</td>\n",
       "      <td>Borderlands</td>\n",
       "      <td>Positive</td>\n",
       "      <td>im getting borderlands kill</td>\n",
       "    </tr>\n",
       "    <tr>\n",
       "      <th>2</th>\n",
       "      <td>2401</td>\n",
       "      <td>Borderlands</td>\n",
       "      <td>Positive</td>\n",
       "      <td>im coming borderlands murder</td>\n",
       "    </tr>\n",
       "    <tr>\n",
       "      <th>3</th>\n",
       "      <td>2401</td>\n",
       "      <td>Borderlands</td>\n",
       "      <td>Positive</td>\n",
       "      <td>im getting borderlands 2 murder</td>\n",
       "    </tr>\n",
       "    <tr>\n",
       "      <th>4</th>\n",
       "      <td>2401</td>\n",
       "      <td>Borderlands</td>\n",
       "      <td>Positive</td>\n",
       "      <td>im getting borderlands murder</td>\n",
       "    </tr>\n",
       "  </tbody>\n",
       "</table>\n",
       "</div>"
      ],
      "text/plain": [
       "     id   games/apps sentiment_type                             text\n",
       "0  2401  Borderlands       Positive              coming borders kill\n",
       "1  2401  Borderlands       Positive      im getting borderlands kill\n",
       "2  2401  Borderlands       Positive     im coming borderlands murder\n",
       "3  2401  Borderlands       Positive  im getting borderlands 2 murder\n",
       "4  2401  Borderlands       Positive    im getting borderlands murder"
      ]
     },
     "execution_count": 27,
     "metadata": {},
     "output_type": "execute_result"
    }
   ],
   "source": [
    "data_nolem.head()"
   ]
  },
  {
   "cell_type": "code",
   "execution_count": 28,
   "id": "471d47f4",
   "metadata": {},
   "outputs": [],
   "source": [
    "\n",
    "data['text'] = data['text'].apply(lemmatize_sentence)"
   ]
  },
  {
   "cell_type": "code",
   "execution_count": 29,
   "id": "46aa19cb",
   "metadata": {},
   "outputs": [
    {
     "data": {
      "text/html": [
       "<div>\n",
       "<style scoped>\n",
       "    .dataframe tbody tr th:only-of-type {\n",
       "        vertical-align: middle;\n",
       "    }\n",
       "\n",
       "    .dataframe tbody tr th {\n",
       "        vertical-align: top;\n",
       "    }\n",
       "\n",
       "    .dataframe thead th {\n",
       "        text-align: right;\n",
       "    }\n",
       "</style>\n",
       "<table border=\"1\" class=\"dataframe\">\n",
       "  <thead>\n",
       "    <tr style=\"text-align: right;\">\n",
       "      <th></th>\n",
       "      <th>id</th>\n",
       "      <th>games/apps</th>\n",
       "      <th>sentiment_type</th>\n",
       "      <th>text</th>\n",
       "    </tr>\n",
       "  </thead>\n",
       "  <tbody>\n",
       "    <tr>\n",
       "      <th>0</th>\n",
       "      <td>2401</td>\n",
       "      <td>Borderlands</td>\n",
       "      <td>Positive</td>\n",
       "      <td>come border kill</td>\n",
       "    </tr>\n",
       "    <tr>\n",
       "      <th>1</th>\n",
       "      <td>2401</td>\n",
       "      <td>Borderlands</td>\n",
       "      <td>Positive</td>\n",
       "      <td>im get borderland kill</td>\n",
       "    </tr>\n",
       "    <tr>\n",
       "      <th>2</th>\n",
       "      <td>2401</td>\n",
       "      <td>Borderlands</td>\n",
       "      <td>Positive</td>\n",
       "      <td>im come borderland murder</td>\n",
       "    </tr>\n",
       "    <tr>\n",
       "      <th>3</th>\n",
       "      <td>2401</td>\n",
       "      <td>Borderlands</td>\n",
       "      <td>Positive</td>\n",
       "      <td>im get borderland 2 murder</td>\n",
       "    </tr>\n",
       "    <tr>\n",
       "      <th>4</th>\n",
       "      <td>2401</td>\n",
       "      <td>Borderlands</td>\n",
       "      <td>Positive</td>\n",
       "      <td>im get borderland murder</td>\n",
       "    </tr>\n",
       "    <tr>\n",
       "      <th>5</th>\n",
       "      <td>2402</td>\n",
       "      <td>Borderlands</td>\n",
       "      <td>Positive</td>\n",
       "      <td>spent hour make something fun n't know huge borderland fan maya one favorite character decide ma...</td>\n",
       "    </tr>\n",
       "    <tr>\n",
       "      <th>6</th>\n",
       "      <td>2402</td>\n",
       "      <td>Borderlands</td>\n",
       "      <td>Positive</td>\n",
       "      <td>spent couple hour something fun ... n't know 'm huge borderland fan maya one favorite character ...</td>\n",
       "    </tr>\n",
       "    <tr>\n",
       "      <th>7</th>\n",
       "      <td>2402</td>\n",
       "      <td>Borderlands</td>\n",
       "      <td>Positive</td>\n",
       "      <td>spent hour something fun ... n't know 'm huge borderland fan maya one favorite character</td>\n",
       "    </tr>\n",
       "    <tr>\n",
       "      <th>8</th>\n",
       "      <td>2402</td>\n",
       "      <td>Borderlands</td>\n",
       "      <td>Positive</td>\n",
       "      <td>spent hour make something fun n't know huge rhandlerr fan maya one favorite character decide mak...</td>\n",
       "    </tr>\n",
       "    <tr>\n",
       "      <th>9</th>\n",
       "      <td>2402</td>\n",
       "      <td>Borderlands</td>\n",
       "      <td>Positive</td>\n",
       "      <td>2010 spent hour make something fun n't know huge rhandlerr fan maya one favorite character decid...</td>\n",
       "    </tr>\n",
       "  </tbody>\n",
       "</table>\n",
       "</div>"
      ],
      "text/plain": [
       "     id   games/apps sentiment_type  \\\n",
       "0  2401  Borderlands       Positive   \n",
       "1  2401  Borderlands       Positive   \n",
       "2  2401  Borderlands       Positive   \n",
       "3  2401  Borderlands       Positive   \n",
       "4  2401  Borderlands       Positive   \n",
       "5  2402  Borderlands       Positive   \n",
       "6  2402  Borderlands       Positive   \n",
       "7  2402  Borderlands       Positive   \n",
       "8  2402  Borderlands       Positive   \n",
       "9  2402  Borderlands       Positive   \n",
       "\n",
       "                                                                                                  text  \n",
       "0                                                                                     come border kill  \n",
       "1                                                                               im get borderland kill  \n",
       "2                                                                            im come borderland murder  \n",
       "3                                                                           im get borderland 2 murder  \n",
       "4                                                                             im get borderland murder  \n",
       "5  spent hour make something fun n't know huge borderland fan maya one favorite character decide ma...  \n",
       "6  spent couple hour something fun ... n't know 'm huge borderland fan maya one favorite character ...  \n",
       "7             spent hour something fun ... n't know 'm huge borderland fan maya one favorite character  \n",
       "8  spent hour make something fun n't know huge rhandlerr fan maya one favorite character decide mak...  \n",
       "9  2010 spent hour make something fun n't know huge rhandlerr fan maya one favorite character decid...  "
      ]
     },
     "execution_count": 29,
     "metadata": {},
     "output_type": "execute_result"
    }
   ],
   "source": [
    "data.head(10)"
   ]
  },
  {
   "cell_type": "markdown",
   "id": "d609145f",
   "metadata": {},
   "source": [
    "Создание tf-idf представления слов. Удалим наиболее редко встречающиеся слова с помощью min_df"
   ]
  },
  {
   "cell_type": "code",
   "execution_count": 30,
   "id": "3a6f3277",
   "metadata": {},
   "outputs": [],
   "source": [
    "tfidf = TfidfVectorizer(\n",
    "    \n",
    "    min_df=0.0001,max_df=0.9\n",
    ")\n",
    "\n",
    "X_train_tfidf = tfidf.fit_transform(data['text'])"
   ]
  },
  {
   "cell_type": "code",
   "execution_count": 31,
   "id": "74cf754e",
   "metadata": {},
   "outputs": [
    {
     "data": {
      "text/plain": [
       "array(['00', '000', '00016', ..., 'zpr', 'zsmitty', 'zuckerberg'],\n",
       "      dtype=object)"
      ]
     },
     "execution_count": 31,
     "metadata": {},
     "output_type": "execute_result"
    }
   ],
   "source": [
    "tfidf.get_feature_names_out()"
   ]
  },
  {
   "cell_type": "code",
   "execution_count": 32,
   "id": "0f940189",
   "metadata": {},
   "outputs": [],
   "source": [
    "tfidf_array = X_train_tfidf.toarray()"
   ]
  },
  {
   "cell_type": "code",
   "execution_count": 33,
   "id": "fff198ee",
   "metadata": {},
   "outputs": [
    {
     "data": {
      "text/plain": [
       "(71655, 7309)"
      ]
     },
     "execution_count": 33,
     "metadata": {},
     "output_type": "execute_result"
    }
   ],
   "source": [
    "tfidf_array.shape"
   ]
  },
  {
   "cell_type": "markdown",
   "id": "c55fd51e",
   "metadata": {},
   "source": [
    "Слова с наибольшей суммой весов"
   ]
  },
  {
   "cell_type": "code",
   "execution_count": 34,
   "id": "145f85f4",
   "metadata": {
    "scrolled": true
   },
   "outputs": [
    {
     "name": "stdout",
     "output_type": "stream",
     "text": [
      "Топ-20 слов с наибольшим весом в TF-IDF среди всех документов:\n",
      "game       1537.012846\n",
      "com        1369.448627\n",
      "get        1217.567282\n",
      "not        1019.989846\n",
      "play        997.235510\n",
      "fuck        995.744038\n",
      "like        895.071568\n",
      "go          884.306218\n",
      "love        860.306303\n",
      "unk         854.860044\n",
      "pic         791.443253\n",
      "good        787.453338\n",
      "twitter     757.444584\n",
      "make        698.827774\n",
      "one         694.857616\n",
      "shit        687.805327\n",
      "see         667.450102\n",
      "time        664.669655\n",
      "have        653.955544\n",
      "look        648.357419\n",
      "dtype: float64\n"
     ]
    }
   ],
   "source": [
    "\n",
    "df_tfidf = pd.DataFrame(tfidf_array, columns=tfidf.get_feature_names_out())\n",
    "\n",
    "\n",
    "total_tfidf = df_tfidf.sum()\n",
    "\n",
    "\n",
    "sorted_tfidf = total_tfidf.sort_values(ascending=False)\n",
    "\n",
    "\n",
    "top_n = 20\n",
    "print(f\"Топ-{top_n} слов с наибольшим весом в TF-IDF среди всех документов:\")\n",
    "print(sorted_tfidf.head(top_n))"
   ]
  },
  {
   "cell_type": "markdown",
   "id": "31f34d5b",
   "metadata": {},
   "source": [
    "Данные слова часто встречаются и скорее всего важны для классификации"
   ]
  },
  {
   "cell_type": "code",
   "execution_count": 35,
   "id": "ab738f7e",
   "metadata": {},
   "outputs": [],
   "source": [
    "from sklearn.model_selection import  GridSearchCV\n",
    "from sklearn.metrics import classification_report, confusion_matrix"
   ]
  },
  {
   "cell_type": "code",
   "execution_count": 36,
   "id": "97ef658b",
   "metadata": {},
   "outputs": [],
   "source": [
    "from sklearn.metrics import  ConfusionMatrixDisplay"
   ]
  },
  {
   "cell_type": "code",
   "execution_count": 37,
   "id": "85d93b13",
   "metadata": {},
   "outputs": [
    {
     "data": {
      "text/html": [
       "<div>\n",
       "<style scoped>\n",
       "    .dataframe tbody tr th:only-of-type {\n",
       "        vertical-align: middle;\n",
       "    }\n",
       "\n",
       "    .dataframe tbody tr th {\n",
       "        vertical-align: top;\n",
       "    }\n",
       "\n",
       "    .dataframe thead th {\n",
       "        text-align: right;\n",
       "    }\n",
       "</style>\n",
       "<table border=\"1\" class=\"dataframe\">\n",
       "  <thead>\n",
       "    <tr style=\"text-align: right;\">\n",
       "      <th></th>\n",
       "      <th>id</th>\n",
       "      <th>games/apps</th>\n",
       "      <th>sentiment_type</th>\n",
       "      <th>text</th>\n",
       "    </tr>\n",
       "  </thead>\n",
       "  <tbody>\n",
       "    <tr>\n",
       "      <th>0</th>\n",
       "      <td>2401</td>\n",
       "      <td>Borderlands</td>\n",
       "      <td>Positive</td>\n",
       "      <td>come border kill</td>\n",
       "    </tr>\n",
       "    <tr>\n",
       "      <th>1</th>\n",
       "      <td>2401</td>\n",
       "      <td>Borderlands</td>\n",
       "      <td>Positive</td>\n",
       "      <td>im get borderland kill</td>\n",
       "    </tr>\n",
       "    <tr>\n",
       "      <th>2</th>\n",
       "      <td>2401</td>\n",
       "      <td>Borderlands</td>\n",
       "      <td>Positive</td>\n",
       "      <td>im come borderland murder</td>\n",
       "    </tr>\n",
       "    <tr>\n",
       "      <th>3</th>\n",
       "      <td>2401</td>\n",
       "      <td>Borderlands</td>\n",
       "      <td>Positive</td>\n",
       "      <td>im get borderland 2 murder</td>\n",
       "    </tr>\n",
       "    <tr>\n",
       "      <th>4</th>\n",
       "      <td>2401</td>\n",
       "      <td>Borderlands</td>\n",
       "      <td>Positive</td>\n",
       "      <td>im get borderland murder</td>\n",
       "    </tr>\n",
       "  </tbody>\n",
       "</table>\n",
       "</div>"
      ],
      "text/plain": [
       "     id   games/apps sentiment_type                        text\n",
       "0  2401  Borderlands       Positive            come border kill\n",
       "1  2401  Borderlands       Positive      im get borderland kill\n",
       "2  2401  Borderlands       Positive   im come borderland murder\n",
       "3  2401  Borderlands       Positive  im get borderland 2 murder\n",
       "4  2401  Borderlands       Positive    im get borderland murder"
      ]
     },
     "execution_count": 37,
     "metadata": {},
     "output_type": "execute_result"
    }
   ],
   "source": [
    "data.head()"
   ]
  },
  {
   "cell_type": "code",
   "execution_count": 38,
   "id": "ca32b714",
   "metadata": {},
   "outputs": [],
   "source": [
    "from sklearn.preprocessing import LabelEncoder\n",
    "\n",
    "\n",
    "labels = data['sentiment_type']\n",
    "\n",
    "\n",
    "label_encoder = LabelEncoder()\n",
    "data['sentiment_type']= label_encoder.fit_transform(labels)\n",
    "\n"
   ]
  },
  {
   "cell_type": "code",
   "execution_count": 39,
   "id": "ebe0bb7f",
   "metadata": {},
   "outputs": [
    {
     "name": "stdout",
     "output_type": "stream",
     "text": [
      "Оригинальные категории: ['Irrelevant' 'Negative' 'Neutral' 'Positive']\n",
      "                            0           1            2            3\n"
     ]
    }
   ],
   "source": [
    "print(\"Оригинальные категории:\", label_encoder.classes_)\n",
    "print('                            0           1            2            3')"
   ]
  },
  {
   "cell_type": "code",
   "execution_count": 40,
   "id": "abd41582",
   "metadata": {},
   "outputs": [],
   "source": [
    "from sklearn.metrics import f1_score\n",
    "from sklearn.metrics import accuracy_score"
   ]
  },
  {
   "cell_type": "code",
   "execution_count": 41,
   "id": "485ed414",
   "metadata": {},
   "outputs": [],
   "source": [
    "X=tfidf_array\n",
    "y=data['sentiment_type']\n"
   ]
  },
  {
   "cell_type": "code",
   "execution_count": 42,
   "id": "a74a0d56",
   "metadata": {},
   "outputs": [
    {
     "data": {
      "text/plain": [
       "(71655, 7309)"
      ]
     },
     "execution_count": 42,
     "metadata": {},
     "output_type": "execute_result"
    }
   ],
   "source": [
    "X.shape"
   ]
  },
  {
   "cell_type": "code",
   "execution_count": 43,
   "id": "ebb9566a",
   "metadata": {},
   "outputs": [],
   "source": [
    "y=np.array(y)\n"
   ]
  },
  {
   "cell_type": "code",
   "execution_count": 44,
   "id": "63161d7c",
   "metadata": {},
   "outputs": [],
   "source": [
    "X_train, X_test, y_train, y_test = train_test_split(X, y, test_size=0.2, random_state=42)"
   ]
  },
  {
   "cell_type": "markdown",
   "id": "8077c895",
   "metadata": {},
   "source": [
    "Сначала попробуем решить задачу классификации с использованием логистической регрессии без предварительной лемматизации"
   ]
  },
  {
   "cell_type": "code",
   "execution_count": 45,
   "id": "6b16f919",
   "metadata": {},
   "outputs": [
    {
     "data": {
      "text/html": [
       "<style>#sk-container-id-1 {color: black;}#sk-container-id-1 pre{padding: 0;}#sk-container-id-1 div.sk-toggleable {background-color: white;}#sk-container-id-1 label.sk-toggleable__label {cursor: pointer;display: block;width: 100%;margin-bottom: 0;padding: 0.3em;box-sizing: border-box;text-align: center;}#sk-container-id-1 label.sk-toggleable__label-arrow:before {content: \"▸\";float: left;margin-right: 0.25em;color: #696969;}#sk-container-id-1 label.sk-toggleable__label-arrow:hover:before {color: black;}#sk-container-id-1 div.sk-estimator:hover label.sk-toggleable__label-arrow:before {color: black;}#sk-container-id-1 div.sk-toggleable__content {max-height: 0;max-width: 0;overflow: hidden;text-align: left;background-color: #f0f8ff;}#sk-container-id-1 div.sk-toggleable__content pre {margin: 0.2em;color: black;border-radius: 0.25em;background-color: #f0f8ff;}#sk-container-id-1 input.sk-toggleable__control:checked~div.sk-toggleable__content {max-height: 200px;max-width: 100%;overflow: auto;}#sk-container-id-1 input.sk-toggleable__control:checked~label.sk-toggleable__label-arrow:before {content: \"▾\";}#sk-container-id-1 div.sk-estimator input.sk-toggleable__control:checked~label.sk-toggleable__label {background-color: #d4ebff;}#sk-container-id-1 div.sk-label input.sk-toggleable__control:checked~label.sk-toggleable__label {background-color: #d4ebff;}#sk-container-id-1 input.sk-hidden--visually {border: 0;clip: rect(1px 1px 1px 1px);clip: rect(1px, 1px, 1px, 1px);height: 1px;margin: -1px;overflow: hidden;padding: 0;position: absolute;width: 1px;}#sk-container-id-1 div.sk-estimator {font-family: monospace;background-color: #f0f8ff;border: 1px dotted black;border-radius: 0.25em;box-sizing: border-box;margin-bottom: 0.5em;}#sk-container-id-1 div.sk-estimator:hover {background-color: #d4ebff;}#sk-container-id-1 div.sk-parallel-item::after {content: \"\";width: 100%;border-bottom: 1px solid gray;flex-grow: 1;}#sk-container-id-1 div.sk-label:hover label.sk-toggleable__label {background-color: #d4ebff;}#sk-container-id-1 div.sk-serial::before {content: \"\";position: absolute;border-left: 1px solid gray;box-sizing: border-box;top: 0;bottom: 0;left: 50%;z-index: 0;}#sk-container-id-1 div.sk-serial {display: flex;flex-direction: column;align-items: center;background-color: white;padding-right: 0.2em;padding-left: 0.2em;position: relative;}#sk-container-id-1 div.sk-item {position: relative;z-index: 1;}#sk-container-id-1 div.sk-parallel {display: flex;align-items: stretch;justify-content: center;background-color: white;position: relative;}#sk-container-id-1 div.sk-item::before, #sk-container-id-1 div.sk-parallel-item::before {content: \"\";position: absolute;border-left: 1px solid gray;box-sizing: border-box;top: 0;bottom: 0;left: 50%;z-index: -1;}#sk-container-id-1 div.sk-parallel-item {display: flex;flex-direction: column;z-index: 1;position: relative;background-color: white;}#sk-container-id-1 div.sk-parallel-item:first-child::after {align-self: flex-end;width: 50%;}#sk-container-id-1 div.sk-parallel-item:last-child::after {align-self: flex-start;width: 50%;}#sk-container-id-1 div.sk-parallel-item:only-child::after {width: 0;}#sk-container-id-1 div.sk-dashed-wrapped {border: 1px dashed gray;margin: 0 0.4em 0.5em 0.4em;box-sizing: border-box;padding-bottom: 0.4em;background-color: white;}#sk-container-id-1 div.sk-label label {font-family: monospace;font-weight: bold;display: inline-block;line-height: 1.2em;}#sk-container-id-1 div.sk-label-container {text-align: center;}#sk-container-id-1 div.sk-container {/* jupyter's `normalize.less` sets `[hidden] { display: none; }` but bootstrap.min.css set `[hidden] { display: none !important; }` so we also need the `!important` here to be able to override the default hidden behavior on the sphinx rendered scikit-learn.org. See: https://github.com/scikit-learn/scikit-learn/issues/21755 */display: inline-block !important;position: relative;}#sk-container-id-1 div.sk-text-repr-fallback {display: none;}</style><div id=\"sk-container-id-1\" class=\"sk-top-container\"><div class=\"sk-text-repr-fallback\"><pre>LogisticRegression(max_iter=1000, multi_class=&#x27;multinomial&#x27;, n_jobs=-1)</pre><b>In a Jupyter environment, please rerun this cell to show the HTML representation or trust the notebook. <br />On GitHub, the HTML representation is unable to render, please try loading this page with nbviewer.org.</b></div><div class=\"sk-container\" hidden><div class=\"sk-item\"><div class=\"sk-estimator sk-toggleable\"><input class=\"sk-toggleable__control sk-hidden--visually\" id=\"sk-estimator-id-1\" type=\"checkbox\" checked><label for=\"sk-estimator-id-1\" class=\"sk-toggleable__label sk-toggleable__label-arrow\">LogisticRegression</label><div class=\"sk-toggleable__content\"><pre>LogisticRegression(max_iter=1000, multi_class=&#x27;multinomial&#x27;, n_jobs=-1)</pre></div></div></div></div></div>"
      ],
      "text/plain": [
       "LogisticRegression(max_iter=1000, multi_class='multinomial', n_jobs=-1)"
      ]
     },
     "execution_count": 45,
     "metadata": {},
     "output_type": "execute_result"
    }
   ],
   "source": [
    "\n",
    "X_tfidf2 = tfidf.fit_transform(data_nolem['text'])\n",
    "tfidf_array2 = X_tfidf2.toarray()\n",
    "labels2 = data_nolem['sentiment_type']\n",
    "label_encoder2 = LabelEncoder()\n",
    "data['sentiment_type']= label_encoder2.fit_transform(labels2)\n",
    "X2=tfidf_array2\n",
    "y2=data_nolem['sentiment_type']\n",
    "y2=np.array(y2)\n",
    "X_train2, X_test2, y_train2, y_test2 = train_test_split(X2, y2, test_size=0.2, random_state=42)\n",
    "model2 = LogisticRegression(multi_class='multinomial', solver='lbfgs',\n",
    "                           max_iter=1000,n_jobs=-1)\n",
    "model2.fit(X_train2, y_train2)\n"
   ]
  },
  {
   "cell_type": "code",
   "execution_count": 46,
   "id": "38b2caf1",
   "metadata": {},
   "outputs": [],
   "source": [
    "y_pred2=model2.predict(X_test2)"
   ]
  },
  {
   "cell_type": "markdown",
   "id": "b4e336f3",
   "metadata": {},
   "source": [
    "Значения основных метрик"
   ]
  },
  {
   "cell_type": "code",
   "execution_count": 47,
   "id": "76a7aee8",
   "metadata": {},
   "outputs": [
    {
     "name": "stdout",
     "output_type": "stream",
     "text": [
      "\n",
      "=== Отчет по классификации ===\n",
      "              precision    recall  f1-score   support\n",
      "\n",
      "           0       0.72      0.58      0.65      2455\n",
      "           1       0.76      0.80      0.78      4433\n",
      "           2       0.72      0.66      0.69      3532\n",
      "           3       0.68      0.77      0.72      3911\n",
      "\n",
      "    accuracy                           0.72     14331\n",
      "   macro avg       0.72      0.71      0.71     14331\n",
      "weighted avg       0.72      0.72      0.72     14331\n",
      "\n"
     ]
    }
   ],
   "source": [
    "print(\"\\n=== Отчет по классификации ===\")\n",
    "print(classification_report(y_test2, y_pred2))"
   ]
  },
  {
   "cell_type": "code",
   "execution_count": 48,
   "id": "9fbd1871",
   "metadata": {},
   "outputs": [
    {
     "data": {
      "text/plain": [
       "0.7222803712232224"
      ]
     },
     "execution_count": 48,
     "metadata": {},
     "output_type": "execute_result"
    }
   ],
   "source": [
    "f1_score(y_pred2, y_test2,average='micro')"
   ]
  },
  {
   "cell_type": "code",
   "execution_count": 49,
   "id": "04dc429b",
   "metadata": {},
   "outputs": [
    {
     "data": {
      "text/plain": [
       "0.7105638883248464"
      ]
     },
     "execution_count": 49,
     "metadata": {},
     "output_type": "execute_result"
    }
   ],
   "source": [
    "f1_score(y_pred2, y_test2,average='macro')"
   ]
  },
  {
   "cell_type": "markdown",
   "id": "287b419b",
   "metadata": {},
   "source": [
    "Теперь при лемматизации"
   ]
  },
  {
   "cell_type": "code",
   "execution_count": 50,
   "id": "6206e83c",
   "metadata": {},
   "outputs": [
    {
     "data": {
      "text/html": [
       "<style>#sk-container-id-2 {color: black;}#sk-container-id-2 pre{padding: 0;}#sk-container-id-2 div.sk-toggleable {background-color: white;}#sk-container-id-2 label.sk-toggleable__label {cursor: pointer;display: block;width: 100%;margin-bottom: 0;padding: 0.3em;box-sizing: border-box;text-align: center;}#sk-container-id-2 label.sk-toggleable__label-arrow:before {content: \"▸\";float: left;margin-right: 0.25em;color: #696969;}#sk-container-id-2 label.sk-toggleable__label-arrow:hover:before {color: black;}#sk-container-id-2 div.sk-estimator:hover label.sk-toggleable__label-arrow:before {color: black;}#sk-container-id-2 div.sk-toggleable__content {max-height: 0;max-width: 0;overflow: hidden;text-align: left;background-color: #f0f8ff;}#sk-container-id-2 div.sk-toggleable__content pre {margin: 0.2em;color: black;border-radius: 0.25em;background-color: #f0f8ff;}#sk-container-id-2 input.sk-toggleable__control:checked~div.sk-toggleable__content {max-height: 200px;max-width: 100%;overflow: auto;}#sk-container-id-2 input.sk-toggleable__control:checked~label.sk-toggleable__label-arrow:before {content: \"▾\";}#sk-container-id-2 div.sk-estimator input.sk-toggleable__control:checked~label.sk-toggleable__label {background-color: #d4ebff;}#sk-container-id-2 div.sk-label input.sk-toggleable__control:checked~label.sk-toggleable__label {background-color: #d4ebff;}#sk-container-id-2 input.sk-hidden--visually {border: 0;clip: rect(1px 1px 1px 1px);clip: rect(1px, 1px, 1px, 1px);height: 1px;margin: -1px;overflow: hidden;padding: 0;position: absolute;width: 1px;}#sk-container-id-2 div.sk-estimator {font-family: monospace;background-color: #f0f8ff;border: 1px dotted black;border-radius: 0.25em;box-sizing: border-box;margin-bottom: 0.5em;}#sk-container-id-2 div.sk-estimator:hover {background-color: #d4ebff;}#sk-container-id-2 div.sk-parallel-item::after {content: \"\";width: 100%;border-bottom: 1px solid gray;flex-grow: 1;}#sk-container-id-2 div.sk-label:hover label.sk-toggleable__label {background-color: #d4ebff;}#sk-container-id-2 div.sk-serial::before {content: \"\";position: absolute;border-left: 1px solid gray;box-sizing: border-box;top: 0;bottom: 0;left: 50%;z-index: 0;}#sk-container-id-2 div.sk-serial {display: flex;flex-direction: column;align-items: center;background-color: white;padding-right: 0.2em;padding-left: 0.2em;position: relative;}#sk-container-id-2 div.sk-item {position: relative;z-index: 1;}#sk-container-id-2 div.sk-parallel {display: flex;align-items: stretch;justify-content: center;background-color: white;position: relative;}#sk-container-id-2 div.sk-item::before, #sk-container-id-2 div.sk-parallel-item::before {content: \"\";position: absolute;border-left: 1px solid gray;box-sizing: border-box;top: 0;bottom: 0;left: 50%;z-index: -1;}#sk-container-id-2 div.sk-parallel-item {display: flex;flex-direction: column;z-index: 1;position: relative;background-color: white;}#sk-container-id-2 div.sk-parallel-item:first-child::after {align-self: flex-end;width: 50%;}#sk-container-id-2 div.sk-parallel-item:last-child::after {align-self: flex-start;width: 50%;}#sk-container-id-2 div.sk-parallel-item:only-child::after {width: 0;}#sk-container-id-2 div.sk-dashed-wrapped {border: 1px dashed gray;margin: 0 0.4em 0.5em 0.4em;box-sizing: border-box;padding-bottom: 0.4em;background-color: white;}#sk-container-id-2 div.sk-label label {font-family: monospace;font-weight: bold;display: inline-block;line-height: 1.2em;}#sk-container-id-2 div.sk-label-container {text-align: center;}#sk-container-id-2 div.sk-container {/* jupyter's `normalize.less` sets `[hidden] { display: none; }` but bootstrap.min.css set `[hidden] { display: none !important; }` so we also need the `!important` here to be able to override the default hidden behavior on the sphinx rendered scikit-learn.org. See: https://github.com/scikit-learn/scikit-learn/issues/21755 */display: inline-block !important;position: relative;}#sk-container-id-2 div.sk-text-repr-fallback {display: none;}</style><div id=\"sk-container-id-2\" class=\"sk-top-container\"><div class=\"sk-text-repr-fallback\"><pre>LogisticRegression(max_iter=1000, multi_class=&#x27;multinomial&#x27;, n_jobs=-1)</pre><b>In a Jupyter environment, please rerun this cell to show the HTML representation or trust the notebook. <br />On GitHub, the HTML representation is unable to render, please try loading this page with nbviewer.org.</b></div><div class=\"sk-container\" hidden><div class=\"sk-item\"><div class=\"sk-estimator sk-toggleable\"><input class=\"sk-toggleable__control sk-hidden--visually\" id=\"sk-estimator-id-2\" type=\"checkbox\" checked><label for=\"sk-estimator-id-2\" class=\"sk-toggleable__label sk-toggleable__label-arrow\">LogisticRegression</label><div class=\"sk-toggleable__content\"><pre>LogisticRegression(max_iter=1000, multi_class=&#x27;multinomial&#x27;, n_jobs=-1)</pre></div></div></div></div></div>"
      ],
      "text/plain": [
       "LogisticRegression(max_iter=1000, multi_class='multinomial', n_jobs=-1)"
      ]
     },
     "execution_count": 50,
     "metadata": {},
     "output_type": "execute_result"
    }
   ],
   "source": [
    "model = LogisticRegression(multi_class='multinomial', solver='lbfgs',\n",
    "                           max_iter=1000,n_jobs=-1)\n",
    "model.fit(X_train, y_train)\n",
    "\n",
    "\n"
   ]
  },
  {
   "cell_type": "markdown",
   "id": "e9de42fd",
   "metadata": {},
   "source": [
    "Логистическая регрессия с L2 регуляризацией"
   ]
  },
  {
   "cell_type": "code",
   "execution_count": 51,
   "id": "0df5c278",
   "metadata": {},
   "outputs": [
    {
     "name": "stdout",
     "output_type": "stream",
     "text": [
      "Эпоха 1: Log Loss = 1.0829, Total Loss = 1.7066\n",
      "Эпоха 10: Log Loss = 0.8310, Total Loss = 1.1983\n",
      "Эпоха 20: Log Loss = 0.8005, Total Loss = 1.1574\n",
      "Эпоха 30: Log Loss = 0.7899, Total Loss = 1.1433\n",
      "Эпоха 40: Log Loss = 0.7847, Total Loss = 1.1365\n",
      "Эпоха 50: Log Loss = 0.7817, Total Loss = 1.1324\n",
      "Эпоха 60: Log Loss = 0.7798, Total Loss = 1.1297\n",
      "Эпоха 70: Log Loss = 0.7784, Total Loss = 1.1278\n",
      "Эпоха 80: Log Loss = 0.7773, Total Loss = 1.1264\n",
      "Эпоха 90: Log Loss = 0.7766, Total Loss = 1.1254\n",
      "Эпоха 100: Log Loss = 0.7760, Total Loss = 1.1246\n",
      "Эпоха 110: Log Loss = 0.7755, Total Loss = 1.1239\n",
      "Эпоха 120: Log Loss = 0.7752, Total Loss = 1.1234\n",
      "Эпоха 130: Log Loss = 0.7749, Total Loss = 1.1230\n",
      "Эпоха 140: Log Loss = 0.7747, Total Loss = 1.1226\n",
      "Эпоха 150: Log Loss = 0.7745, Total Loss = 1.1224\n",
      "Эпоха 160: Log Loss = 0.7744, Total Loss = 1.1221\n",
      "Эпоха 170: Log Loss = 0.7742, Total Loss = 1.1219\n",
      "Эпоха 180: Log Loss = 0.7741, Total Loss = 1.1218\n",
      "Эпоха 190: Log Loss = 0.7741, Total Loss = 1.1216\n",
      "Эпоха 200: Log Loss = 0.7740, Total Loss = 1.1215\n",
      "\n",
      "=== Отчет по классификации ===\n",
      "              precision    recall  f1-score   support\n",
      "\n",
      "           0       0.75      0.54      0.63      2455\n",
      "           1       0.71      0.85      0.77      4433\n",
      "           2       0.71      0.68      0.70      3532\n",
      "           3       0.73      0.71      0.72      3911\n",
      "\n",
      "    accuracy                           0.72     14331\n",
      "   macro avg       0.72      0.70      0.71     14331\n",
      "weighted avg       0.72      0.72      0.72     14331\n",
      "\n"
     ]
    }
   ],
   "source": [
    "from sklearn.linear_model import SGDClassifier\n",
    "from sklearn.metrics import log_loss, accuracy_score, precision_score, recall_score, f1_score, classification_report, confusion_matrix\n",
    "from sklearn.datasets import load_iris\n",
    "\n",
    "from sklearn.preprocessing import OneHotEncoder\n",
    "from sklearn.preprocessing import StandardScaler\n",
    "\n",
    "import seaborn as sns\n",
    "\n",
    "X_train=np.nan_to_num(X_train, nan=0)\n",
    "X_test=np.nan_to_num(X_test, nan=0)\n",
    "\n",
    "clf = SGDClassifier(\n",
    "    loss='log_loss',            \n",
    "    penalty='l2',          \n",
    "    alpha=0.00001,          \n",
    "    max_iter=1,            \n",
    "    learning_rate='optimal',\n",
    "    tol=None,              \n",
    "    warm_start=True,       \n",
    "    random_state=42,\n",
    "    verbose=0              \n",
    ")\n",
    "\n",
    "classes = np.unique(y_train)\n",
    "alpha = clf.alpha\n",
    "encoder = OneHotEncoder(sparse_output=False)\n",
    "y_train_onehot = encoder.fit_transform(y_train.reshape(-1, 1))\n",
    "y_test_onehot = encoder.transform(y_test.reshape(-1, 1))\n",
    "y_test_onehot=np.nan_to_num(y_test_onehot, nan=0)\n",
    "y_train_onehot=np.nan_to_num(y_train_onehot, nan=0)\n",
    "n_epochs = 200 #для примера можно оставить 100 эпох\n",
    "\n",
    "l2_loss=[]\n",
    "\n",
    "for epoch in range(1, n_epochs + 1):\n",
    "    clf.partial_fit(X_train, y_train,classes=classes)\n",
    "\n",
    "    prob = clf.predict_proba(X_test)\n",
    "    prob=np.nan_to_num(prob, nan=0)\n",
    "\n",
    "    loss = log_loss(y_test_onehot, prob)\n",
    "    coef = clf.coef_\n",
    "    l2_penalty = alpha * np.sum(coef ** 2)\n",
    "\n",
    "    total_loss = loss + l2_penalty\n",
    "    \n",
    "\n",
    "    if epoch % 10 == 0 or epoch == 1:\n",
    "        print(f\"Эпоха {epoch}: Log Loss = {loss:.4f}, Total Loss = {total_loss:.4f}\")\n",
    "        l2_loss.append(total_loss)\n",
    "\n",
    "\n",
    "y_pred = clf.predict(X_test)\n",
    "\n",
    "y_pred_proba = clf.predict_proba(X_test)\n",
    "\n",
    "print(\"\\n=== Отчет по классификации ===\")\n",
    "print(classification_report(y_test, y_pred))"
   ]
  },
  {
   "cell_type": "markdown",
   "id": "f02c459b",
   "metadata": {},
   "source": [
    "Логистическая регрессия с L1 регуляризацией"
   ]
  },
  {
   "cell_type": "code",
   "execution_count": 52,
   "id": "5258f666",
   "metadata": {},
   "outputs": [
    {
     "name": "stdout",
     "output_type": "stream",
     "text": [
      "Эпоха 1: Log Loss = 1.2068, Total Loss = 1.4542\n",
      "Эпоха 10: Log Loss = 0.7852, Total Loss = 1.0326\n",
      "Эпоха 20: Log Loss = 0.7593, Total Loss = 1.0067\n",
      "Эпоха 30: Log Loss = 0.7504, Total Loss = 0.9978\n",
      "Эпоха 40: Log Loss = 0.7460, Total Loss = 0.9934\n",
      "Эпоха 50: Log Loss = 0.7434, Total Loss = 0.9908\n",
      "Эпоха 60: Log Loss = 0.7416, Total Loss = 0.9890\n",
      "Эпоха 70: Log Loss = 0.7404, Total Loss = 0.9878\n",
      "Эпоха 80: Log Loss = 0.7396, Total Loss = 0.9870\n",
      "Эпоха 90: Log Loss = 0.7390, Total Loss = 0.9863\n",
      "Эпоха 100: Log Loss = 0.7385, Total Loss = 0.9859\n",
      "Эпоха 110: Log Loss = 0.7381, Total Loss = 0.9855\n",
      "Эпоха 120: Log Loss = 0.7378, Total Loss = 0.9852\n",
      "Эпоха 130: Log Loss = 0.7376, Total Loss = 0.9850\n",
      "Эпоха 140: Log Loss = 0.7375, Total Loss = 0.9849\n",
      "Эпоха 150: Log Loss = 0.7373, Total Loss = 0.9847\n",
      "Эпоха 160: Log Loss = 0.7372, Total Loss = 0.9846\n",
      "Эпоха 170: Log Loss = 0.7371, Total Loss = 0.9845\n",
      "Эпоха 180: Log Loss = 0.7371, Total Loss = 0.9845\n",
      "Эпоха 190: Log Loss = 0.7370, Total Loss = 0.9844\n",
      "Эпоха 200: Log Loss = 0.7370, Total Loss = 0.9844\n",
      "\n",
      "=== Отчет по классификации ===\n",
      "              precision    recall  f1-score   support\n",
      "\n",
      "           0       0.75      0.59      0.66      2455\n",
      "           1       0.73      0.85      0.78      4433\n",
      "           2       0.73      0.69      0.71      3532\n",
      "           3       0.73      0.73      0.73      3911\n",
      "\n",
      "    accuracy                           0.73     14331\n",
      "   macro avg       0.73      0.71      0.72     14331\n",
      "weighted avg       0.73      0.73      0.73     14331\n",
      "\n"
     ]
    }
   ],
   "source": [
    "clf1 =  SGDClassifier(\n",
    "    loss='log_loss',            \n",
    "    penalty='l1',         \n",
    "    alpha=0.00001,         \n",
    "    max_iter=1,           \n",
    "    learning_rate='optimal',\n",
    "    tol=None,              \n",
    "    warm_start=True,       \n",
    "    random_state=42\n",
    ")\n",
    "alpha = clf1.alpha\n",
    "l1_loss=[]\n",
    "for epoch in range(1, n_epochs + 1):\n",
    "    clf1.partial_fit(X_train, y_train,classes=classes)\n",
    "\n",
    "    prob = clf1.predict_proba(X_test)\n",
    "    prob=np.nan_to_num(prob, nan=0)\n",
    "\n",
    "    loss = log_loss(y_test_onehot, prob)\n",
    "    coef = clf.coef_\n",
    "    l1_penalty = alpha * np.sum(np.abs(coef))\n",
    "    total_loss = loss + l1_penalty\n",
    "    \n",
    "\n",
    "    if epoch % 10 == 0 or epoch == 1:\n",
    "        print(f\"Эпоха {epoch}: Log Loss = {loss:.4f}, Total Loss = {total_loss:.4f}\")\n",
    "        l1_loss.append(total_loss)\n",
    "\n",
    "\n",
    "y_pred = clf1.predict(X_test)\n",
    "\n",
    "y_pred_proba = clf1.predict_proba(X_test)\n",
    "\n",
    "print(\"\\n=== Отчет по классификации ===\")\n",
    "print(classification_report(y_test, y_pred))"
   ]
  },
  {
   "cell_type": "code",
   "execution_count": 53,
   "id": "397622ed",
   "metadata": {},
   "outputs": [
    {
     "data": {
      "image/png": "[encoded data removed]",
      "text/plain": [
       "<Figure size 640x480 with 1 Axes>"
      ]
     },
     "metadata": {},
     "output_type": "display_data"
    }
   ],
   "source": [
    "yy=[(i+1)*10 for i in range(int(n_epochs/10)+1)]\n",
    "plt.plot(yy,l1_loss);\n",
    "plt.ylabel('Значение loss функции');\n",
    "plt.xlabel('Количество эпох');\n",
    "plt.title('L1');"
   ]
  },
  {
   "cell_type": "code",
   "execution_count": 54,
   "id": "77149c81",
   "metadata": {},
   "outputs": [
    {
     "data": {
      "image/png": "[encoded data removed]",
      "text/plain": [
       "<Figure size 640x480 with 1 Axes>"
      ]
     },
     "metadata": {},
     "output_type": "display_data"
    }
   ],
   "source": [
    "yy=[(i+1)*10 for i in range(int(n_epochs/10)+1)]\n",
    "plt.plot(yy,l2_loss);\n",
    "plt.ylabel('Значение loss функции');\n",
    "plt.xlabel('Количество эпох');\n",
    "plt.title('L2');"
   ]
  },
  {
   "cell_type": "markdown",
   "id": "f1003568",
   "metadata": {},
   "source": [
    "Таким образом, лемматизация не сильно влияет на качество модели. Но с лемматизацией модель работает быстрее, таким образом \n",
    "следует использовать вариант с лемматизацией"
   ]
  },
  {
   "cell_type": "code",
   "execution_count": 55,
   "id": "2cedadb1",
   "metadata": {},
   "outputs": [],
   "source": [
    "y_pred=model.predict(X_test)"
   ]
  },
  {
   "cell_type": "code",
   "execution_count": 56,
   "id": "56f4552a",
   "metadata": {},
   "outputs": [
    {
     "name": "stdout",
     "output_type": "stream",
     "text": [
      "Точность модели: 0.72\n"
     ]
    }
   ],
   "source": [
    "print(f'Точность модели: {accuracy_score(y_pred, y_test):.2f}')\n"
   ]
  },
  {
   "cell_type": "code",
   "execution_count": 57,
   "id": "796b6aaa",
   "metadata": {},
   "outputs": [
    {
     "data": {
      "text/plain": [
       "0.7105638883248464"
      ]
     },
     "execution_count": 57,
     "metadata": {},
     "output_type": "execute_result"
    }
   ],
   "source": [
    "f1_score(y_pred, y_test,average='macro')"
   ]
  },
  {
   "cell_type": "code",
   "execution_count": 58,
   "id": "3e2e62f0",
   "metadata": {},
   "outputs": [
    {
     "data": {
      "text/plain": [
       "0.7222803712232224"
      ]
     },
     "execution_count": 58,
     "metadata": {},
     "output_type": "execute_result"
    }
   ],
   "source": [
    "f1_score(y_pred, y_test,average='micro')"
   ]
  },
  {
   "cell_type": "code",
   "execution_count": 59,
   "id": "ab431d0c",
   "metadata": {},
   "outputs": [
    {
     "name": "stdout",
     "output_type": "stream",
     "text": [
      "Точность модели на train: 0.77\n"
     ]
    }
   ],
   "source": [
    "accuracy = accuracy_score(model.predict(X_train), y_train)\n",
    "print(f'Точность модели на train: {accuracy:.2f}')\n"
   ]
  },
  {
   "cell_type": "code",
   "execution_count": 60,
   "id": "5ff3b15c",
   "metadata": {},
   "outputs": [],
   "source": [
    "#weights=model.coef_\n",
    "weights=clf1.coef_"
   ]
  },
  {
   "cell_type": "code",
   "execution_count": 61,
   "id": "1a3065af",
   "metadata": {},
   "outputs": [
    {
     "data": {
      "text/plain": [
       "(4, 7309)"
      ]
     },
     "execution_count": 61,
     "metadata": {},
     "output_type": "execute_result"
    }
   ],
   "source": [
    "weights.shape"
   ]
  },
  {
   "cell_type": "markdown",
   "id": "4f3731b5",
   "metadata": {},
   "source": [
    "Найдем слова, которые получили при L1 регуляризации наименьший вес (т.е. занулились)"
   ]
  },
  {
   "cell_type": "code",
   "execution_count": 62,
   "id": "f2d8c61f",
   "metadata": {},
   "outputs": [],
   "source": [
    "zero_w1= [index for index, value in enumerate(weights[0]) if value == 0]\n",
    "zero_w2= [index for index, value in enumerate(weights[1]) if value == 0]\n",
    "zero_w3= [index for index, value in enumerate(weights[2]) if value == 0]\n",
    "zero_w4= [index for index, value in enumerate(weights[3]) if value == 0]\n"
   ]
  },
  {
   "cell_type": "code",
   "execution_count": 63,
   "id": "4b4b93e6",
   "metadata": {},
   "outputs": [],
   "source": [
    "all_words=tfidf.get_feature_names_out()\n"
   ]
  },
  {
   "cell_type": "code",
   "execution_count": 64,
   "id": "7843eab6",
   "metadata": {},
   "outputs": [
    {
     "name": "stdout",
     "output_type": "stream",
     "text": [
      "917\n"
     ]
    }
   ],
   "source": [
    "extracted_elements = set(set([all_words[index] for index in zero_w1])&set([all_words[index] for index in zero_w2])&set([all_words[index] for index in zero_w3])&set([all_words[index] for index in zero_w4]))\n",
    "\n",
    "print(len(extracted_elements))"
   ]
  },
  {
   "cell_type": "markdown",
   "id": "a1cbe29e",
   "metadata": {},
   "source": [
    "Это для L1. Слова, которые обнуляются. К таким словам относятся редкие слова, по типу:  'chromium', 'chunk','partisan' и т.д.\n",
    "    А также различные числа и слова не имеющие особого смысла:'19th', '1min', '2005', '2008', '2011', 'ws', 'wtffff', 'x1', 'zoth', 'zpr', 'zsmitty' и т.д."
   ]
  },
  {
   "cell_type": "code",
   "execution_count": 65,
   "id": "c27cdc80",
   "metadata": {},
   "outputs": [
    {
     "name": "stdout",
     "output_type": "stream",
     "text": [
      "['00pm', '04', '101', '1050', '107', '123', '125', '144', '15th', '165', '1650', '16th', '170', '172', '17th', '183', '184', '188', '1982', '1994', '19th', '1min', '2005', '2008', '2011', '2012', '2015', '2060', '246', '24hrs', '2500', '256', '26', '29th', '2gb', '2k16', '2k_anz', '30min', '30th', '34', '3pm', '3v3', '40gb', '40up', '49', '4gb', '51', '512gb', '54', '587', '64gb', '65', '6th', '700k', '71', '81', '82', '8gb', '91', '952', 'abbott', 'abc', 'abella', 'abt', 'accelerate', 'accessory', 'acct', 'acknowledge', 'acnh', 'address', 'admins', 'admiration', 'advanced', 'adverse', 'afghanistan', 'afvision', 'ain', 'airplane', 'alcohol', 'alexa', 'align', 'allegation', 'allen', 'allstate', 'alotha', 'alphabet', 'although', 'among', 'amongst', 'amy', 'analytics', 'andromeda', 'aniston', 'announcer', 'antic', 'api', 'apparent', 'appian', 'appliance', 'application', 'archer', 'arrange', 'askps_uk', 'asset', 'ate', 'athlete', 'attorney', 'attractive', 'atumn', 'atvi', 'auntie', 'auris', 'aussie', 'austinekeler', 'authenticator', 'av', 'avenue', 'axe', 'azeroth', 'backlit', 'banding', 'bandit', 'bankrupt', 'bard', 'bargain', 'based', 'bass', 'bastion', 'battling', 'bauer', 'baystunna', 'bb', 'beard', 'beaten', 'behaviour', 'belgian', 'belly', 'bench', 'beth', 'betrayal', 'bezel', 'bid', 'bin', 'biological', 'biology', 'bird', 'birdeye_', 'bizarre', 'blacklist', 'blazer', 'blizzardcseu', 'blogger', 'bloodline', 'bollywood', 'bombshell', 'bond', 'booster', 'botting', 'boycotting', 'brag', 'brandi', 'brandon', 'brawl', 'brazilian', 'breaker', 'breakfast', 'breathe', 'bribe', 'brief', 'british', 'brute', 'bryant', 'buffalo', 'bunny', 'burden', 'bureau', 'burnt', 'bus', 'but', 'callofdutyuk', 'cameo', 'candy', 'capable', 'carat', 'carbon', 'carlson', 'cartel', 'carvana', 'castle', 'catering', 'causing', 'ce', 'cease', 'cena', 'cest', 'chairman', 'cheek', 'chick', 'chosen', 'chromium', 'chunk', 'cigarette', 'cking', 'clap', 'climate', 'clint', 'clog', 'clone', 'clue', 'coca', 'collective', 'colonial', 'compelling', 'complement', 'compromise', 'concerned', 'confront', 'connects', 'conscious', 'consecutive', 'consist', 'constitutional', 'contaminate', 'continually', 'continued', 'continuously', 'contribute', 'convenient', 'conveniently', 'convict', 'cooler', 'copper', 'cortana', 'courtesy', 'coverage', 'craftsman', 'craigs', 'crank', 'craziest', 'creates', 'credential', 'creepy', 'critical', 'criticize', 'crouch', 'crown', 'cuisine', 'culprit', 'curiosity', 'cursor', 'cust', 'cutscene', 'cutscenes', 'cve', 'dammit2h3ll', 'darkness', 'darn', 'dash', 'dat', 'ddos', 'dealer', 'dean', 'deathmatch', 'debate', 'debit', 'december', 'decoration', 'default', 'defence', 'delta', 'deluxe', 'depends', 'description', 'destroys', 'destruction', 'det', 'detective', 'diego', 'differ', 'discontinues', 'disrupt', 'distance', 'distract', 'distribution', 'dj', 'dnd', 'dock', 'docker', 'documentary', 'domestic', 'donaldjtrumpjr', 'downtown', 'dozen', 'driveway', 'du', 'dual', 'dvg', 'eafifadirect', 'earnings', 'earns', 'east', 'eddie', 'edt', 'educator', 'ekaro', 'electronics', 'elfie', 'elli', 'elsa', 'elsewhere', 'embarrassment', 'embrace', 'emerald', 'emergency', 'employ', 'enforce', 'enforcement', 'enormous', 'enters', 'equal', 'essence', 'essentially', 'estnn', 'european', 'eva', 'events', 'evie', 'exalt', 'exception', 'exhibit', 'expression', 'extension', 'extensive', 'ey', 'faceb', 'facial', 'fade', 'falcon', 'fault', 'fda', 'fearrts', 'federal', 'fellow', 'fennitegame', 'fest', 'fhd', 'fifth', 'finale', 'finn', 'fitting', 'fitzgerald', 'flare', 'float', 'fncs', 'folder', 'footstep', 'foreign', 'forest', 'formally', 'foundry', 'foxconn', 'fragment', 'francis', 'frank', 'freddie', 'ftc', 'fuckn', 'fume', 'furious', 'fustercluck', 'gale', 'gamecube', 'games', 'gap', 'generally', 'generate', 'generates', 'gladly', 'globe', 'glove', 'glutton', 'gmt', 'goddam', 'googlenews', 'gpm', 'gr', 'grant', 'graphics', 'guru', 'gut', 'hakusho', 'hamilton', 'happier', 'hatred', 'hea', 'heal', 'healthcare', 'heartfelt', 'hearth', 'hearthstone_d', 'heater', 'heavily', 'hence', 'here', 'heroic', 'hextech', 'hindi', 'historical', 'hobby', 'hockey', 'hoffmann', 'hog', 'holt', 'homo', 'honda', 'honorable', 'hotfix', 'hover', 'howtogeek', 'hr', 'hub', 'hubs', 'humanitarian', 'hydra', 'i9', 'ian', 'ic', 'idol', 'igtv', 'iheartradio', 'il', 'illinois', 'implication', 'importantly', 'impose', 'improperly', 'indefinitely', 'industrial', 'infection', 'ing', 'ingredient', 'initially', 'injury', 'inner', 'installed', 'installment', 'institute', 'instruction', 'intelligence', 'intent', 'interfere', 'internal', 'invasion', 'invincible', 'invisible', 'invitation', 'involves', 'iran', 'iso', 'jackass', 'jam', 'janky', 'jean', 'jeremy', 'jj', 'johns', 'joint', 'jr', 'jungler', 'junior', 'kamuy', 'kansa', 'kassandra', 'kawhi', 'kettle', 'khalifa', 'kindle', 'kink', 'knee', 'kraftheinzco', 'laboratory', 'laggy', 'lakers', 'lana', 'largely', 'latest', 'latin', 'lay', 'layout', 'leather', 'lee', 'legends', 'lena', 'library', 'lighten', 'lightly', 'lightweight', 'lin', 'lincoln', 'lo', 'logical', 'longevity', 'loom', 'looool', 'loop', 'ltd', 'lululuvely', 'lure', 'maint', 'makeup', 'malignant', 'malkova', 'manipulation', 'mansion', 'marked', 'married', 'marston', 'mary', 'mason', 'masquerade', 'mass', 'massachusetts', 'massively', 'math', 'matthew', 'maya', 'mayor', 'mbit', 'mc', 'meaningful', 'meat', 'media', 'mediamatters', 'medicine', 'mediocre', 'mental', 'merck', 'method', 'mibr', 'microsoftedu', 'midst', 'millennium', 'mirror', 'mishap', 'ml', 'moba', 'modders', 'moderator', 'monopoly', 'mordekaiser', 'moronic', 'ms', 'msft', 'mumbai', 'muscle', 'mutual', 'mystery', 'narcotic', 'nationwide', 'natural', 'naturally', 'navy', 'nba2k_2ktv', 'neighbor', 'nervous', 'newsfilter', 'nga', 'nicholas', 'nier', 'nip', 'nitro', 'nominate', 'nonbinary', 'noom', 'noone', 'norse', 'notebook', 'novartis', 'nt', 'nvidiagamedev', 'observe', 'occasionally', 'occupy', 'occurs', 'ocean', 'odds', 'olympic', 'ongoing', 'only', 'onslaught', 'opening', 'opposition', 'organisation', 'orgimmar', 'originally', 'outbreak', 'oval', 'ove', 'overflow', 'oversight', 'owe', 'painfully', 'pal', 'panel', 'parachute', 'particular', 'particularly', 'partisan', 'payouts', 'paywall', 'pd', 'peak', 'pentagon', 'performs', 'permit', 'petition', 'pharmaceutical', 'physician', 'pichai', 'pill', 'placement', 'plaintiff', 'plays', 'plugin', 'podcasts', 'poetry', 'poi', 'pointless', 'polygon', 'pond', 'popcorn', 'popped', 'portal', 'posit', 'positivity', 'pot', 'potentially', 'practical', 'predict', 'premarket', 'preparation', 'presence', 'primal', 'primarily', 'prob', 'proctergamble', 'products', 'profitable', 'programmer', 'progressive', 'promo', 'properly', 'propose', 'protester', 'prototype', 'publishing', 'pulse', 'punitive', 'pure', 'purely', 'purpose', 'pursue', 'pushsquare', 'qanon', 'qb', 'quad', 'quarterly', 'quik', 'r1', 'rachel', 'racial', 'rad', 'rally', 'ramp', 'rampant', 'range', 'rapidly', 'rapper', 'ravensoftware', 'rawstory', 'rc', 'reader', 'realm', 'rec', 'reception', 'recieved', 'reckless', 'reckon', 'recognize', 'recommends', 'reconsider', 'recruit', 'redeemment', 'redeemtion', 'reduce', 'reed', 'reform', 'regardless', 'reid', 'reinhardt', 'reliable', 'relief', 'remains', 'remarkable', 'remotely', 'repeatedly', 'reporter', 'reputation', 'reserve', 'resist', 'restrain', 'resurrect', 'rethink', 'retina', 'retrieve', 'retweets', 'rewards', 'rexrts', 'rhoades', 'rib', 'ridden', 'riot', 'riotsupport', 'ripoff', 'rogers', 'rotate', 'rotation', 'roughly', 'rss', 'rtg', 'sack', 'sacrifice', 'salesforce', 'samuel', 'sandiego', 'sap', 'saving', 'scamming', 'scape', 'sean', 'seek', 'sekiro', 'selling', 'senator', 'sequence', 'seraphine', 'serial', 'serve', 'severe', 'sewn', 'sexually', 'shade', 'shake', 'sham', 'shameless', 'sherlock', 'shortage', 'shoutgamers', 'showdown', 'shower', 'shuts', 'si', 'simmons', 'simon', 'simpson', 'sixth', 'sl', 'slade1020', 'slashdot', 'sleeve', 'slider', 'slump', 'smartphones', 'smear', 'smoothly', 'so', 'soccer', 'solely', 'someday', 'somewhat', 'sophomore', 'soros', 'sou', 'sought', 'soundcloud', 'south', 'spare', 'spatula', 'specification', 'spoke', 'spotlight', 'spring', 'stagger', 'stake', 'stall', 'stans', 'statue', 'stinky', 'sto', 'stormheim', 'striker', 'strip', 'subreddit', 'suffers', 'suitable', 'summary', 'sunt', 'sup', 'suppress', 'surgical', 'suspends', 'suspension', 'swat', 'swiss', 'symmetrical', 'tackle', 'taehyung', 'tasmania', 'taunt', 'taylor', 'tcw', 'technically', 'technician', 'techno', 'ted', 'teleport', 'template', 'terrify', 'terrorism', 'terrorize', 'tft', 'thehill', 'these', 'thevaccinereaction', 'they', 'thin', 'threads', 'thriller', 'thru', 'tile', 'timeout', 'tin', 'tinder', 'tit', 'todd', 'torn', 'toward', 'tps', 'tracked', 'trafficking', 'trainer', 'transparent', 'trilogy', 'ttps', 'tw', 'twenty', 'twitchretweets', 'twosheeep', 'ufc', 'ugh', 'unavailable', 'uncool', 'underneath', 'underway', 'unfollow', 'unlimited', 'unranked', 'unusable', 'unusual', 'upgraded', 'upload', 'upper', 'utterly', 'v1', 'valiant', 'value', 'vast', 'vertical', 'vicious', 'viewership', 'villain', 'viper', 'virtually', 'visitor', 'vitality', 'voiced', 'wage', 'waive', 'wapo', 'waqar', 'ward', 'washington', 'weaker', 'webcam', 'whack', 'whaler', 'whitening', 'widely', 'wildlife', 'wind', 'winrate', 'wins', 'wood', 'workshop', 'worldstar', 'ws', 'wtffff', 'x1', 'xboxes', 'xboxp3', 'xcom', 'yusho', 'zambia', 'zenimax', 'zoth', 'zpr', 'zsmitty']\n"
     ]
    }
   ],
   "source": [
    "print(sorted(extracted_elements))\n"
   ]
  },
  {
   "cell_type": "code",
   "execution_count": 66,
   "id": "ff853118",
   "metadata": {},
   "outputs": [
    {
     "data": {
      "text/plain": [
       "(7309,)"
      ]
     },
     "execution_count": 66,
     "metadata": {},
     "output_type": "execute_result"
    }
   ],
   "source": [
    "tfidf.get_feature_names_out().shape"
   ]
  },
  {
   "cell_type": "markdown",
   "id": "68836a3c",
   "metadata": {},
   "source": [
    "Для l2 регуляризации. Найдем слова, имеющие наибольший вес"
   ]
  },
  {
   "cell_type": "code",
   "execution_count": 67,
   "id": "45f89d04",
   "metadata": {},
   "outputs": [],
   "source": [
    "#weightsL2=model1.coef_\n",
    "weightsL2=clf.coef_"
   ]
  },
  {
   "cell_type": "code",
   "execution_count": 68,
   "id": "7f1d4eb9",
   "metadata": {},
   "outputs": [],
   "source": [
    "max1=sorted(weightsL2[0],reverse=True)[:20]\n",
    "max2=sorted(weightsL2[1],reverse=True)[:20]\n",
    "max3=sorted(weightsL2[2],reverse=True)[:20]\n",
    "max4=sorted(weightsL2[3],reverse=True)[:20]"
   ]
  },
  {
   "cell_type": "code",
   "execution_count": 69,
   "id": "2b89e05e",
   "metadata": {},
   "outputs": [],
   "source": [
    "max_w1= [index for index, value in enumerate(weightsL2[0]) if value in max1]\n",
    "max_w2= [index for index, value in enumerate(weightsL2[1]) if value in max2]\n",
    "max_w3= [index for index, value in enumerate(weightsL2[2]) if value in max3]\n",
    "max_w4= [index for index, value in enumerate(weightsL2[3]) if value in max4]"
   ]
  },
  {
   "cell_type": "markdown",
   "id": "34250945",
   "metadata": {},
   "source": [
    "Для примера посмотрим на слова, имеющие наибольший вес среди положительных отзывов"
   ]
  },
  {
   "cell_type": "code",
   "execution_count": 70,
   "id": "c771e25f",
   "metadata": {},
   "outputs": [
    {
     "name": "stdout",
     "output_type": "stream",
     "text": [
      "['amateur', 'amaze', 'eager', 'excite', 'fave', 'fun', 'love', 'masterpiece', 'md', 'optimum', 'pic', 'ps3', 'refresh', 'respect', 'thank', 'tmobile', 'valhalla', 'wait', 'warlock', 'willing']\n"
     ]
    }
   ],
   "source": [
    "print([all_words[index] for index in max_w4])"
   ]
  },
  {
   "cell_type": "markdown",
   "id": "28eb5fd7",
   "metadata": {},
   "source": [
    "Таким образом, для положительных отзывов большие веса есть у слов: 'amaze', 'excite', 'fave', 'fun', 'love','thank' что ожидаемо"
   ]
  },
  {
   "cell_type": "code",
   "execution_count": 71,
   "id": "e2b83495",
   "metadata": {},
   "outputs": [],
   "source": [
    "#print([all_words[index] for index in max_w1])"
   ]
  },
  {
   "cell_type": "code",
   "execution_count": 72,
   "id": "c9468515",
   "metadata": {},
   "outputs": [],
   "source": [
    "#max1=sorted(weights[0],reverse=True)[:20]\n",
    "#max2=sorted(weights[1],reverse=True)[:20]\n",
    "#max3=sorted(weights[2],reverse=True)[:20]\n",
    "#max4=sorted(weights[3],reverse=True)[:20]\n",
    "#max_w1= [index for index, value in enumerate(weights[0]) if value in max1]\n",
    "#max_w2= [index for index, value in enumerate(weights[1]) if value in max2]\n",
    "#max_w3= [index for index, value in enumerate(weights[2]) if value in max3]\n",
    "#max_w4= [index for index, value in enumerate(weights[3]) if value in max4]"
   ]
  },
  {
   "cell_type": "markdown",
   "id": "78c94d70",
   "metadata": {},
   "source": [
    "Метрики качества классификации при использовании LogisticRegression из sklearn"
   ]
  },
  {
   "cell_type": "code",
   "execution_count": 73,
   "id": "e0b57d0b",
   "metadata": {},
   "outputs": [
    {
     "data": {
      "text/plain": [
       "0.7105638883248464"
      ]
     },
     "execution_count": 73,
     "metadata": {},
     "output_type": "execute_result"
    }
   ],
   "source": [
    "f1_score(y_pred, y_test,average='macro')"
   ]
  },
  {
   "cell_type": "code",
   "execution_count": 74,
   "id": "246f65db",
   "metadata": {},
   "outputs": [
    {
     "name": "stdout",
     "output_type": "stream",
     "text": [
      "              precision    recall  f1-score   support\n",
      "\n",
      "           0       0.72      0.58      0.65      2455\n",
      "           1       0.76      0.80      0.78      4433\n",
      "           2       0.72      0.66      0.69      3532\n",
      "           3       0.68      0.77      0.72      3911\n",
      "\n",
      "    accuracy                           0.72     14331\n",
      "   macro avg       0.72      0.71      0.71     14331\n",
      "weighted avg       0.72      0.72      0.72     14331\n",
      "\n"
     ]
    }
   ],
   "source": [
    "print(classification_report(y_test, y_pred))"
   ]
  },
  {
   "cell_type": "code",
   "execution_count": 75,
   "id": "f118a75a",
   "metadata": {},
   "outputs": [
    {
     "name": "stdout",
     "output_type": "stream",
     "text": [
      "[[1436  315  255  449]\n",
      " [ 154 3553  288  438]\n",
      " [ 209  445 2347  531]\n",
      " [ 198  344  354 3015]]\n"
     ]
    }
   ],
   "source": [
    "print(confusion_matrix(y_test, y_pred))"
   ]
  },
  {
   "cell_type": "code",
   "execution_count": 76,
   "id": "3897b515",
   "metadata": {},
   "outputs": [],
   "source": [
    "cm=confusion_matrix(y_test, y_pred)\n",
    "disp = ConfusionMatrixDisplay(confusion_matrix=cm,\n",
    "                              display_labels=[0,1,2,3])"
   ]
  },
  {
   "cell_type": "code",
   "execution_count": 77,
   "id": "27acd01e",
   "metadata": {},
   "outputs": [
    {
     "data": {
      "image/png": "[encoded data removed]",
      "text/plain": [
       "<Figure size 640x480 with 2 Axes>"
      ]
     },
     "metadata": {},
     "output_type": "display_data"
    }
   ],
   "source": [
    "disp.plot()\n",
    "\n",
    "plt.show()"
   ]
  },
  {
   "cell_type": "code",
   "execution_count": 78,
   "id": "6df7c6c1",
   "metadata": {},
   "outputs": [],
   "source": [
    "coefficients = model.coef_\n",
    "\n"
   ]
  },
  {
   "cell_type": "markdown",
   "id": "4c9edc3c",
   "metadata": {},
   "source": [
    "**Нейронная сеть**"
   ]
  },
  {
   "cell_type": "code",
   "execution_count": 79,
   "id": "2256d91d",
   "metadata": {},
   "outputs": [],
   "source": [
    "import torch.nn as nn"
   ]
  },
  {
   "cell_type": "code",
   "execution_count": 80,
   "id": "8e7352e6",
   "metadata": {},
   "outputs": [],
   "source": [
    "import torch"
   ]
  },
  {
   "cell_type": "markdown",
   "id": "f27bee97",
   "metadata": {},
   "source": [
    "Реализуем нейронную сеть с одним скрытым слоем, функцией активации relu и различными начальными инициализациями"
   ]
  },
  {
   "cell_type": "code",
   "execution_count": 81,
   "id": "0cf2d3ce",
   "metadata": {},
   "outputs": [],
   "source": [
    "class Net(nn.Module):\n",
    "    def __init__(self,inp,init_type='xavier'):\n",
    "        super(Net,self).__init__()\n",
    "\n",
    "        self.fc1 = nn.Linear(inp, 100)\n",
    "        self.act1 = nn.ReLU() \n",
    "        self.fc2 = nn.Linear(100, 4)\n",
    "\n",
    "        if init_type=='xavier':\n",
    "            torch.nn.init.xavier_normal_(self.fc1.weight) \n",
    "            torch.nn.init.xavier_normal_(self.fc2.weight)\n",
    "\n",
    "        elif init_type=='he':\n",
    "            torch.nn.init.kaiming_normal_(self.fc1.weight) \n",
    "            torch.nn.init.kaiming_normal_(self.fc2.weight) \n",
    "        elif  init_type=='zeros': \n",
    "            torch.nn.init.zeros_(self.fc1.weight) \n",
    "            torch.nn.init.zeros_(self.fc2.weight)\n",
    "        else:    \n",
    "            torch.nn.init.xavier_normal_(self.fc1.weight) \n",
    "            torch.nn.init.xavier_normal_(self.fc2.weight)\n",
    "        \n",
    "        #хуже всего nn.init.zeros_\n",
    "\n",
    "    def forward(self, x):\n",
    "\n",
    "        x = self.fc1(x)\n",
    "        x = self.act1(x)\n",
    "        x = self.fc2(x)\n",
    "        \n",
    "        \n",
    "        return x"
   ]
  },
  {
   "cell_type": "code",
   "execution_count": 82,
   "id": "5b47dc77",
   "metadata": {},
   "outputs": [],
   "source": [
    "def train(model, X, y, criterion, optimizer, num_epoch,X_test,y_test):\n",
    "\n",
    "    ls=[]\n",
    "    lstest=[]\n",
    "    for t in range(num_epoch):\n",
    "                \n",
    "        y_pred = model(X)\n",
    "\n",
    "        loss = criterion(y_pred, y)\n",
    "\n",
    "        loss.backward()\n",
    "        \n",
    "        optimizer.step()\n",
    "        \n",
    "        optimizer.zero_grad()\n",
    "        \n",
    "        if t%10==0:\n",
    "            print(f'epoch: {t}, curr_loss:  {loss}')\n",
    "            ls.append(loss)\n",
    "            with torch.no_grad():\n",
    "                lstest.append(criterion(model(X_test),y_test))\n",
    "        lr_scheduler.step()\n",
    "    return model,ls,lstest"
   ]
  },
  {
   "cell_type": "code",
   "execution_count": 83,
   "id": "2cff3c5e",
   "metadata": {},
   "outputs": [],
   "source": [
    "netmodel = Net(tfidf_array.shape[1])\n",
    "\n",
    "\n",
    "criterion = torch.nn.CrossEntropyLoss()\n",
    "\n",
    "optimizer = torch.optim.Adam(netmodel.parameters(), lr=0.01)"
   ]
  },
  {
   "cell_type": "code",
   "execution_count": 84,
   "id": "3a71c292",
   "metadata": {},
   "outputs": [],
   "source": [
    "y_train=torch.from_numpy(y_train)\n",
    "\n"
   ]
  },
  {
   "cell_type": "code",
   "execution_count": 85,
   "id": "9fec23aa",
   "metadata": {},
   "outputs": [],
   "source": [
    "y_test=torch.from_numpy(y_test)\n",
    "X_test=torch.from_numpy(X_test)"
   ]
  },
  {
   "cell_type": "code",
   "execution_count": 86,
   "id": "2c220796",
   "metadata": {},
   "outputs": [],
   "source": [
    "X_train=torch.from_numpy(X_train)\n",
    "\n"
   ]
  },
  {
   "cell_type": "code",
   "execution_count": 87,
   "id": "ab3cb0da",
   "metadata": {},
   "outputs": [],
   "source": [
    "y_train=y_train.long()\n",
    "X_train=X_train.to(torch.float32)"
   ]
  },
  {
   "cell_type": "code",
   "execution_count": 88,
   "id": "77447903",
   "metadata": {},
   "outputs": [],
   "source": [
    "y_test=y_test.long()\n",
    "X_test=X_test.to(torch.float32)"
   ]
  },
  {
   "cell_type": "code",
   "execution_count": 89,
   "id": "62a246ac",
   "metadata": {},
   "outputs": [],
   "source": [
    "y_train=y_train.to(torch.long)"
   ]
  },
  {
   "cell_type": "code",
   "execution_count": 90,
   "id": "c8b19443",
   "metadata": {},
   "outputs": [],
   "source": [
    "import torch"
   ]
  },
  {
   "cell_type": "markdown",
   "id": "92175118",
   "metadata": {},
   "source": [
    "**Нейронная сеть с инициализацией xavier_normal_ (Лучший вариант,  на равне с He)**"
   ]
  },
  {
   "cell_type": "code",
   "execution_count": 91,
   "id": "5d7358d4",
   "metadata": {},
   "outputs": [
    {
     "name": "stdout",
     "output_type": "stream",
     "text": [
      "epoch: 0, curr_loss:  1.386229157447815\n",
      "epoch: 10, curr_loss:  0.7769156098365784\n",
      "epoch: 20, curr_loss:  0.522487223148346\n",
      "epoch: 30, curr_loss:  0.42566564679145813\n",
      "epoch: 40, curr_loss:  0.3647059202194214\n",
      "epoch: 50, curr_loss:  0.32184913754463196\n",
      "epoch: 60, curr_loss:  0.28406471014022827\n",
      "epoch: 70, curr_loss:  0.2523360848426819\n",
      "epoch: 80, curr_loss:  0.2228034883737564\n",
      "epoch: 90, curr_loss:  0.1984945833683014\n"
     ]
    }
   ],
   "source": [
    "lr_scheduler=torch.optim.lr_scheduler.StepLR(optimizer,step_size=20,gamma=0.9)#потом можно изменить (в LROnPlateau в цикле при шаге нужно передавать  loss или метрику )\n",
    "netmodel,ls,lts = train(netmodel, X_train, y_train, criterion, optimizer,100,X_test, y_test)"
   ]
  },
  {
   "cell_type": "code",
   "execution_count": 92,
   "id": "8708546c",
   "metadata": {},
   "outputs": [],
   "source": [
    "with torch.no_grad():\n",
    "    nn_prediction = netmodel(X_test)"
   ]
  },
  {
   "cell_type": "code",
   "execution_count": 93,
   "id": "1b0a51c0",
   "metadata": {},
   "outputs": [],
   "source": [
    "max_values, max_indices = torch.max(nn_prediction, dim=1)"
   ]
  },
  {
   "cell_type": "code",
   "execution_count": 94,
   "id": "f424fd4a",
   "metadata": {},
   "outputs": [
    {
     "name": "stdout",
     "output_type": "stream",
     "text": [
      "Точность модели: 0.82\n"
     ]
    }
   ],
   "source": [
    "print(f'Точность модели: {accuracy_score(max_indices, y_test):.2f}')"
   ]
  },
  {
   "cell_type": "code",
   "execution_count": 95,
   "id": "4454f2a9",
   "metadata": {},
   "outputs": [
    {
     "name": "stdout",
     "output_type": "stream",
     "text": [
      " f1 модели: 0.82\n"
     ]
    }
   ],
   "source": [
    "print(f' f1 модели: {f1_score(max_indices, y_test,average=\"macro\"):.2f}')"
   ]
  },
  {
   "cell_type": "code",
   "execution_count": 96,
   "id": "44cae07a",
   "metadata": {},
   "outputs": [
    {
     "data": {
      "text/plain": [
       "0.8168765254417197"
      ]
     },
     "execution_count": 96,
     "metadata": {},
     "output_type": "execute_result"
    }
   ],
   "source": [
    "f1_score(max_indices, y_test,average=\"macro\")"
   ]
  },
  {
   "cell_type": "code",
   "execution_count": 97,
   "id": "28e6677c",
   "metadata": {},
   "outputs": [],
   "source": [
    "lost_epoch=list(map(lambda x: x.detach().numpy(),ls))"
   ]
  },
  {
   "cell_type": "code",
   "execution_count": 98,
   "id": "d2edd549",
   "metadata": {},
   "outputs": [],
   "source": [
    "yy=[(i+1)*10 for i in range(20)]"
   ]
  },
  {
   "cell_type": "code",
   "execution_count": 99,
   "id": "8761cace",
   "metadata": {},
   "outputs": [],
   "source": [
    "lost_epoch_test=list(map(lambda x: x.detach().numpy(),lts))"
   ]
  },
  {
   "cell_type": "code",
   "execution_count": 100,
   "id": "3408eff6",
   "metadata": {},
   "outputs": [
    {
     "data": {
      "image/png": "[encoded data removed]",
      "text/plain": [
       "<Figure size 640x480 with 1 Axes>"
      ]
     },
     "metadata": {},
     "output_type": "display_data"
    }
   ],
   "source": [
    "yy=[(i+1)*10 for i in range(10)]\n",
    "plt.plot(yy,lost_epoch,label='train');\n",
    "plt.plot(yy,lost_epoch_test,label='test');\n",
    "plt.legend()\n",
    "plt.ylabel('Значение loss функции');\n",
    "plt.xlabel('Количество эпох');\n",
    "plt.title('Инициализация Xavier_normal_');"
   ]
  },
  {
   "cell_type": "code",
   "execution_count": null,
   "id": "1e0f52b6",
   "metadata": {},
   "outputs": [],
   "source": []
  },
  {
   "cell_type": "markdown",
   "id": "4218152c",
   "metadata": {},
   "source": [
    "**Нейронная сеть с инициализацией He**"
   ]
  },
  {
   "cell_type": "code",
   "execution_count": 101,
   "id": "61afbb13",
   "metadata": {},
   "outputs": [
    {
     "name": "stdout",
     "output_type": "stream",
     "text": [
      "epoch: 0, curr_loss:  1.3885728120803833\n",
      "epoch: 10, curr_loss:  0.7654897570610046\n",
      "epoch: 20, curr_loss:  0.5174999833106995\n",
      "epoch: 30, curr_loss:  0.4224403500556946\n",
      "epoch: 40, curr_loss:  0.3620963990688324\n",
      "epoch: 50, curr_loss:  0.3193325400352478\n",
      "epoch: 60, curr_loss:  0.28120648860931396\n",
      "epoch: 70, curr_loss:  0.24901798367500305\n",
      "epoch: 80, curr_loss:  0.21893207728862762\n",
      "epoch: 90, curr_loss:  0.19419093430042267\n"
     ]
    }
   ],
   "source": [
    "netmodel = Net(tfidf_array.shape[1],init_type='he')\n",
    "\n",
    "\n",
    "criterion = torch.nn.CrossEntropyLoss()\n",
    "\n",
    "optimizer = torch.optim.Adam(netmodel.parameters(), lr=0.01)\n",
    "lr_scheduler=torch.optim.lr_scheduler.StepLR(optimizer,step_size=20,gamma=0.9)#потом изменить (в LROnPlateau в цикле при шаге нужно передавать  loss или метрику )\n",
    "netmodel,ls,lts = train(netmodel, X_train, y_train, criterion, optimizer,100,X_test, y_test)"
   ]
  },
  {
   "cell_type": "code",
   "execution_count": 102,
   "id": "fd02421f",
   "metadata": {},
   "outputs": [
    {
     "name": "stdout",
     "output_type": "stream",
     "text": [
      "Точность модели: 0.82\n"
     ]
    }
   ],
   "source": [
    "with torch.no_grad():\n",
    "    nn_prediction = netmodel(X_test)\n",
    "    \n",
    "max_values, max_indices = torch.max(nn_prediction, dim=1)\n",
    "print(f'Точность модели: {accuracy_score(max_indices, y_test):.2f}')"
   ]
  },
  {
   "cell_type": "code",
   "execution_count": 103,
   "id": "f5f1d4da",
   "metadata": {},
   "outputs": [
    {
     "data": {
      "text/plain": [
       "0.8177420605821298"
      ]
     },
     "execution_count": 103,
     "metadata": {},
     "output_type": "execute_result"
    }
   ],
   "source": [
    "f1_score(max_indices, y_test,average=\"macro\")"
   ]
  },
  {
   "cell_type": "code",
   "execution_count": 104,
   "id": "627b7a3f",
   "metadata": {},
   "outputs": [],
   "source": [
    "lost_epoch=list(map(lambda x: x.detach().numpy(),ls))\n",
    "lost_epoch_test=list(map(lambda x: x.detach().numpy(),lts))"
   ]
  },
  {
   "cell_type": "code",
   "execution_count": 105,
   "id": "64e98e5b",
   "metadata": {},
   "outputs": [
    {
     "data": {
      "image/png": "[encoded data removed]",
      "text/plain": [
       "<Figure size 640x480 with 1 Axes>"
      ]
     },
     "metadata": {},
     "output_type": "display_data"
    }
   ],
   "source": [
    "yy=[(i+1)*10 for i in range(10)]\n",
    "plt.plot(yy,lost_epoch,label='train');\n",
    "plt.plot(yy,lost_epoch_test,label='test');\n",
    "plt.legend()\n",
    "plt.ylabel('Значение loss функции');\n",
    "plt.xlabel('Количество эпох');\n",
    "plt.title('Инициализация He');"
   ]
  },
  {
   "cell_type": "markdown",
   "id": "b6c4afdb",
   "metadata": {},
   "source": [
    "**Нейронная сеть с инициализацией нулями**"
   ]
  },
  {
   "cell_type": "code",
   "execution_count": 106,
   "id": "3e140646",
   "metadata": {},
   "outputs": [
    {
     "name": "stdout",
     "output_type": "stream",
     "text": [
      "epoch: 0, curr_loss:  1.3861253261566162\n",
      "epoch: 10, curr_loss:  1.247338891029358\n",
      "epoch: 20, curr_loss:  1.14980947971344\n",
      "epoch: 30, curr_loss:  1.0518518686294556\n",
      "epoch: 40, curr_loss:  0.8998627662658691\n",
      "epoch: 50, curr_loss:  0.8102349638938904\n",
      "epoch: 60, curr_loss:  0.7547332644462585\n",
      "epoch: 70, curr_loss:  0.7167949676513672\n",
      "epoch: 80, curr_loss:  0.6841517686843872\n",
      "epoch: 90, curr_loss:  0.656777560710907\n"
     ]
    }
   ],
   "source": [
    "netmodel = Net(tfidf_array.shape[1],init_type='zeros')\n",
    "\n",
    "\n",
    "criterion = torch.nn.CrossEntropyLoss()\n",
    "\n",
    "optimizer = torch.optim.Adam(netmodel.parameters(), lr=0.01)\n",
    "lr_scheduler=torch.optim.lr_scheduler.StepLR(optimizer,step_size=20,gamma=0.9)#потом изменить (в LROnPlateau в цикле при шаге нужно передавать  loss или метрику )\n",
    "netmodel,ls,lts = train(netmodel, X_train, y_train, criterion, optimizer,100,X_test, y_test)"
   ]
  },
  {
   "cell_type": "code",
   "execution_count": 107,
   "id": "2b98121f",
   "metadata": {},
   "outputs": [
    {
     "name": "stdout",
     "output_type": "stream",
     "text": [
      "Точность модели: 0.67\n"
     ]
    }
   ],
   "source": [
    "with torch.no_grad():\n",
    "    nn_prediction = netmodel(X_test)\n",
    "    \n",
    "max_values, max_indices = torch.max(nn_prediction, dim=1)\n",
    "print(f'Точность модели: {accuracy_score(max_indices, y_test):.2f}')"
   ]
  },
  {
   "cell_type": "code",
   "execution_count": 108,
   "id": "1a1fa3ff",
   "metadata": {},
   "outputs": [
    {
     "data": {
      "text/plain": [
       "0.5512305460501277"
      ]
     },
     "execution_count": 108,
     "metadata": {},
     "output_type": "execute_result"
    }
   ],
   "source": [
    "f1_score(max_indices, y_test,average=\"macro\")"
   ]
  },
  {
   "cell_type": "code",
   "execution_count": 109,
   "id": "cb523372",
   "metadata": {},
   "outputs": [],
   "source": [
    "lost_epoch=list(map(lambda x: x.detach().numpy(),ls))\n",
    "lost_epoch_test=list(map(lambda x: x.detach().numpy(),lts))"
   ]
  },
  {
   "cell_type": "code",
   "execution_count": 110,
   "id": "9d784cb8",
   "metadata": {},
   "outputs": [
    {
     "data": {
      "image/png": "[encoded data removed]",
      "text/plain": [
       "<Figure size 640x480 with 1 Axes>"
      ]
     },
     "metadata": {},
     "output_type": "display_data"
    }
   ],
   "source": [
    "yy=[(i+1)*10 for i in range(10)]\n",
    "plt.plot(yy,lost_epoch,label='train');\n",
    "plt.plot(yy,lost_epoch_test,label='test');\n",
    "plt.legend()\n",
    "plt.ylabel('Значение loss функции');\n",
    "plt.xlabel('Количество эпох');\n",
    "plt.title('Инициализация Zeros');"
   ]
  },
  {
   "cell_type": "markdown",
   "id": "2b98b130",
   "metadata": {},
   "source": [
    "**Нейронная сеть с инициализацией Xavier_uniform**"
   ]
  },
  {
   "cell_type": "code",
   "execution_count": 111,
   "id": "dc8f4205",
   "metadata": {},
   "outputs": [
    {
     "name": "stdout",
     "output_type": "stream",
     "text": [
      "epoch: 0, curr_loss:  1.3908815383911133\n",
      "epoch: 10, curr_loss:  0.7752112150192261\n",
      "epoch: 20, curr_loss:  0.5230332016944885\n",
      "epoch: 30, curr_loss:  0.42780882120132446\n",
      "epoch: 40, curr_loss:  0.36848941445350647\n",
      "epoch: 50, curr_loss:  0.32661497592926025\n",
      "epoch: 60, curr_loss:  0.28914114832878113\n",
      "epoch: 70, curr_loss:  0.2569029927253723\n",
      "epoch: 80, curr_loss:  0.2261689454317093\n",
      "epoch: 90, curr_loss:  0.20043788850307465\n"
     ]
    }
   ],
   "source": [
    "netmodel = Net(tfidf_array.shape[1],init_type='xavier_uniform')\n",
    "\n",
    "\n",
    "criterion = torch.nn.CrossEntropyLoss()\n",
    "\n",
    "optimizer = torch.optim.Adam(netmodel.parameters(), lr=0.01)\n",
    "lr_scheduler=torch.optim.lr_scheduler.StepLR(optimizer,step_size=20,gamma=0.9)#потом изменить (в LROnPlateau в цикле при шаге нужно передавать  loss или метрику )\n",
    "netmodel,ls,lts = train(netmodel, X_train, y_train, criterion, optimizer,100,X_test, y_test)"
   ]
  },
  {
   "cell_type": "code",
   "execution_count": 112,
   "id": "1a40e35a",
   "metadata": {},
   "outputs": [
    {
     "name": "stdout",
     "output_type": "stream",
     "text": [
      "Точность модели: 0.82\n"
     ]
    }
   ],
   "source": [
    "with torch.no_grad():\n",
    "    nn_prediction = netmodel(X_test)\n",
    "    \n",
    "max_values, max_indices = torch.max(nn_prediction, dim=1)\n",
    "print(f'Точность модели: {accuracy_score(max_indices, y_test):.2f}')"
   ]
  },
  {
   "cell_type": "code",
   "execution_count": 113,
   "id": "f063f578",
   "metadata": {},
   "outputs": [
    {
     "data": {
      "text/plain": [
       "0.8151291489536512"
      ]
     },
     "execution_count": 113,
     "metadata": {},
     "output_type": "execute_result"
    }
   ],
   "source": [
    "f1_score(max_indices, y_test,average=\"macro\")"
   ]
  },
  {
   "cell_type": "code",
   "execution_count": 114,
   "id": "9d884219",
   "metadata": {},
   "outputs": [],
   "source": [
    "lost_epoch=list(map(lambda x: x.detach().numpy(),ls))\n",
    "lost_epoch_test=list(map(lambda x: x.detach().numpy(),lts))"
   ]
  },
  {
   "cell_type": "code",
   "execution_count": 115,
   "id": "63f2c2de",
   "metadata": {},
   "outputs": [
    {
     "data": {
      "image/png": "[encoded data removed]",
      "text/plain": [
       "<Figure size 640x480 with 1 Axes>"
      ]
     },
     "metadata": {},
     "output_type": "display_data"
    }
   ],
   "source": [
    "yy=[(i+1)*10 for i in range(10)]\n",
    "plt.plot(yy,lost_epoch,label='train');\n",
    "plt.plot(yy,lost_epoch_test,label='test');\n",
    "plt.legend()\n",
    "plt.ylabel('Значение loss функции');\n",
    "plt.xlabel('Количество эпох');\n",
    "plt.title('Инициализация Xavier_uniform');"
   ]
  },
  {
   "cell_type": "markdown",
   "id": "b917af22",
   "metadata": {},
   "source": [
    "В рамках данной работы была произведена классификация твитов с использованием логистической регресии (с L1 и L2 регуляризацией).\n",
    "Предвариетльно текст был нормализован, были удалены наиболее редко встречающиеся слова.\n",
    "Результат по основным метрикам получился похожим, при этом преимуществами является интерпретируемость модели. Были выведены слова, \n",
    "соответствующие большим весам при L2, а также занулившимся весам для L1. Занулившиеся слова - это слова, которые в основном \n",
    "встречаются редко или являются какими-то наборами букв, не имеющими смысл. Слова, имеющие наибольший вес в основном соответствуют \n",
    "наиболее важным словам для данной категории. Также была произведена классификация без использования предварительной \n",
    "лемматизации, результат получился чуть лучше по основным метрикам, при этом вектора имеют большую размерность и \n",
    "требуется больше ресурсов и времени на обработку. Таким образом, опимальным является вариант с использованием лемматизации.\n",
    "\n",
    "Нейросетевой подход: для задачи многоклассовой классификации была создана нейронная сеть, протестированы различные варианты \n",
    "    начальной инициализации весов. Лучший вариант имеет сеть с инициализацией xavier_normal. Значения основных метрик получились \n",
    "    лучше, по сравнению с логистической регрессией"
   ]
  },
  {
   "cell_type": "code",
   "execution_count": null,
   "id": "06c749d8",
   "metadata": {},
   "outputs": [],
   "source": []
  }
 ],
 "metadata": {
  "kernelspec": {
   "display_name": "Python 3 (ipykernel)",
   "language": "python",
   "name": "python3"
  },
  "language_info": {
   "codemirror_mode": {
    "name": "ipython",
    "version": 3
   },
   "file_extension": ".py",
   "mimetype": "text/x-python",
   "name": "python",
   "nbconvert_exporter": "python",
   "pygments_lexer": "ipython3",
   "version": "3.11.5"
  }
 },
 "nbformat": 4,
 "nbformat_minor": 5
}
